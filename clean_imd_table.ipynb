{
 "cells": [
  {
   "cell_type": "markdown",
   "metadata": {},
   "source": [
    "### cleaning the imdb table"
   ]
  },
  {
   "cell_type": "code",
   "execution_count": 19,
   "metadata": {
    "collapsed": true
   },
   "outputs": [],
   "source": [
    "import pickle\n",
    "import pandas as pd\n",
    "import string\n",
    "import numpy as np\n",
    "import os"
   ]
  },
  {
   "cell_type": "code",
   "execution_count": 20,
   "metadata": {
    "collapsed": false
   },
   "outputs": [],
   "source": [
    "#open the pickled df\n",
    "\n",
    "with open('imdb_df.pk1', 'r') as picklefile:\n",
    "    df = pickle.load(picklefile)"
   ]
  },
  {
   "cell_type": "code",
   "execution_count": 21,
   "metadata": {
    "collapsed": false
   },
   "outputs": [],
   "source": [
    "df['main_language'] = df['Language'].apply(lambda x: str(x).split(',')[0])"
   ]
  },
  {
   "cell_type": "code",
   "execution_count": 22,
   "metadata": {
    "collapsed": false
   },
   "outputs": [],
   "source": [
    "lang_list = list(df['main_language'].unique())"
   ]
  },
  {
   "cell_type": "code",
   "execution_count": 23,
   "metadata": {
    "collapsed": false
   },
   "outputs": [
    {
     "data": {
      "text/plain": [
       "Actors           Yun-Fat Chow, Michelle Yeoh, Ziyi Zhang, Chen ...\n",
       "Awards           Won 4 Oscars. Another 111 wins & 107 nominations.\n",
       "Country                              Taiwan, Hong Kong, USA, China\n",
       "Director                                                   Ang Lee\n",
       "Error                                                          NaN\n",
       "Genre                                       Action, Drama, Romance\n",
       "Language                                                  Mandarin\n",
       "Metascore                                                       93\n",
       "Plot             Two warriors in pursuit of a stolen sword and ...\n",
       "Poster           http://ia.media-imdb.com/images/M/MV5BMTY5MjM4...\n",
       "Rated                                                        PG-13\n",
       "Released                                               12 Jan 2001\n",
       "Response                                                      True\n",
       "Runtime                                                    120 min\n",
       "Title                               Crouching Tiger, Hidden Dragon\n",
       "Type                                                         movie\n",
       "Writer           Du Lu Wang (book), Hui-Ling Wang (screenplay),...\n",
       "Year                                                          2000\n",
       "imdbID                                                   tt0190332\n",
       "imdbRating                                                     7.9\n",
       "imdbVotes                                                  205,400\n",
       "main_language                                             Mandarin\n",
       "Name: 0, dtype: object"
      ]
     },
     "execution_count": 23,
     "metadata": {},
     "output_type": "execute_result"
    }
   ],
   "source": [
    "df.ix[0] # test"
   ]
  },
  {
   "cell_type": "code",
   "execution_count": 24,
   "metadata": {
    "collapsed": true
   },
   "outputs": [],
   "source": [
    "df['award_numbers'] = df['Awards'].apply(lambda x: str(x).translate(None, string.letters))"
   ]
  },
  {
   "cell_type": "code",
   "execution_count": 25,
   "metadata": {
    "collapsed": false
   },
   "outputs": [],
   "source": [
    "df['award_numbers'] = df['award_numbers'].apply(lambda x: str(x).translate(None, string.punctuation))"
   ]
  },
  {
   "cell_type": "code",
   "execution_count": 26,
   "metadata": {
    "collapsed": false
   },
   "outputs": [],
   "source": [
    "df['award_numbers'] = df['award_numbers'].apply(lambda x: x.split())"
   ]
  },
  {
   "cell_type": "code",
   "execution_count": 27,
   "metadata": {
    "collapsed": false
   },
   "outputs": [],
   "source": [
    "df['nominations'] = df['award_numbers'].apply(lambda x: x[-1] if len(x) != 0 else 0)"
   ]
  },
  {
   "cell_type": "code",
   "execution_count": 28,
   "metadata": {
    "collapsed": false
   },
   "outputs": [
    {
     "data": {
      "text/plain": [
       "Index([       u'Actors',        u'Awards',       u'Country',      u'Director',\n",
       "               u'Error',         u'Genre',      u'Language',     u'Metascore',\n",
       "                u'Plot',        u'Poster',         u'Rated',      u'Released',\n",
       "            u'Response',       u'Runtime',         u'Title',          u'Type',\n",
       "              u'Writer',          u'Year',        u'imdbID',    u'imdbRating',\n",
       "           u'imdbVotes', u'main_language', u'award_numbers',   u'nominations'],\n",
       "      dtype='object')"
      ]
     },
     "execution_count": 28,
     "metadata": {},
     "output_type": "execute_result"
    }
   ],
   "source": [
    "df.columns "
   ]
  },
  {
   "cell_type": "code",
   "execution_count": 29,
   "metadata": {
    "collapsed": false
   },
   "outputs": [],
   "source": [
    "# create an award df\n",
    "\n",
    "df_award_noms = df[['Title', 'main_language', 'nominations']]"
   ]
  },
  {
   "cell_type": "code",
   "execution_count": 30,
   "metadata": {
    "collapsed": false
   },
   "outputs": [
    {
     "data": {
      "text/html": [
       "<div>\n",
       "<table border=\"1\" class=\"dataframe\">\n",
       "  <thead>\n",
       "    <tr style=\"text-align: right;\">\n",
       "      <th></th>\n",
       "      <th>Title</th>\n",
       "      <th>main_language</th>\n",
       "      <th>nominations</th>\n",
       "    </tr>\n",
       "  </thead>\n",
       "  <tbody>\n",
       "    <tr>\n",
       "      <th>0</th>\n",
       "      <td>Crouching Tiger, Hidden Dragon</td>\n",
       "      <td>Mandarin</td>\n",
       "      <td>107</td>\n",
       "    </tr>\n",
       "    <tr>\n",
       "      <th>1</th>\n",
       "      <td>Life Is Beautiful</td>\n",
       "      <td>Italian</td>\n",
       "      <td>39</td>\n",
       "    </tr>\n",
       "    <tr>\n",
       "      <th>2</th>\n",
       "      <td>Hero</td>\n",
       "      <td>Mandarin</td>\n",
       "      <td>26</td>\n",
       "    </tr>\n",
       "    <tr>\n",
       "      <th>3</th>\n",
       "      <td>Instructions Not Included</td>\n",
       "      <td>Spanish</td>\n",
       "      <td>2</td>\n",
       "    </tr>\n",
       "    <tr>\n",
       "      <th>4</th>\n",
       "      <td>Pan's Labyrinth</td>\n",
       "      <td>Spanish</td>\n",
       "      <td>72</td>\n",
       "    </tr>\n",
       "  </tbody>\n",
       "</table>\n",
       "</div>"
      ],
      "text/plain": [
       "                            Title main_language nominations\n",
       "0  Crouching Tiger, Hidden Dragon      Mandarin         107\n",
       "1               Life Is Beautiful       Italian          39\n",
       "2                            Hero      Mandarin          26\n",
       "3       Instructions Not Included       Spanish           2\n",
       "4                 Pan's Labyrinth       Spanish          72"
      ]
     },
     "execution_count": 30,
     "metadata": {},
     "output_type": "execute_result"
    }
   ],
   "source": [
    "df_award_noms.head()"
   ]
  },
  {
   "cell_type": "code",
   "execution_count": 31,
   "metadata": {
    "collapsed": false
   },
   "outputs": [
    {
     "data": {
      "text/plain": [
       "True"
      ]
     },
     "execution_count": 31,
     "metadata": {},
     "output_type": "execute_result"
    }
   ],
   "source": [
    "# pickle the award nominations\n",
    "\n",
    "with open('award_noms_df.pk1', 'w') as picklefile:\n",
    "    pickle.dump(df_award_noms, picklefile)\n",
    "\n",
    "os.path.exists('award_noms_df.pk1')"
   ]
  },
  {
   "cell_type": "markdown",
   "metadata": {
    "collapsed": true
   },
   "source": [
    "### Now let's get the metacritic score, Genre, Runtime, main language, director, Country"
   ]
  },
  {
   "cell_type": "code",
   "execution_count": null,
   "metadata": {
    "collapsed": true
   },
   "outputs": [],
   "source": [
    "# get the main genre for a film\n",
    "\n",
    "data"
   ]
  },
  {
   "cell_type": "code",
   "execution_count": 45,
   "metadata": {
    "collapsed": false
   },
   "outputs": [
    {
     "name": "stdout",
     "output_type": "stream",
     "text": [
      "<type 'unicode'>\n",
      "[u'Action, Drama, Romance' u'Comedy, Drama, Romance'\n",
      " u'Action, Adventure, History' u'Comedy, Drama' u'Drama, Fantasy, War'\n",
      " u'Drama' u'Short' u'Documentary, Short' nan u'Comedy'\n",
      " u'Action, Comedy, Crime' u'Adventure, Biography, Drama'\n",
      " u'Action, Crime, Drama' u'Short, Drama' u'Comedy, Crime, Drama'\n",
      " u'Adventure, Drama, War' u'Drama, Thriller' u'Adventure, Drama, Horror'\n",
      " u'Action, Adventure, Drama' u'Biography, Drama, Music'\n",
      " u'Biography, Comedy, Drama' u'Crime, Drama, Mystery'\n",
      " u'Comedy, Drama, Music' u'Drama, Mystery, Romance' u'Drama, Comedy'\n",
      " u'Action, Crime, Thriller' u'Drama, War' u'Crime, Drama'\n",
      " u'Crime, Thriller' u'Drama, Mystery, Thriller' u'Drama, Romance'\n",
      " u'Action, Biography, Drama' u'Biography, Drama' u'N/A'\n",
      " u'Biography, Drama, War' u'Crime, Drama, War' u'Comedy, Romance'\n",
      " u'Action, Comedy, Romance' u'Drama, Music, Romance' u'Action, Thriller'\n",
      " u'Drama, Romance, Thriller' u'Comedy, Drama, War' u'Drama, Music'\n",
      " u'Drama, Thriller, War' u'Comedy, Romance, Drama' u'Action, Drama, War'\n",
      " u'Action, Adventure, Comedy' u'Drama, History, War' u'Drama, History'\n",
      " u'Thriller' u'Drama, Musical, Romance' u'Drama, Fantasy'\n",
      " u'Action, Drama, Thriller' u'Biography, Crime, Drama' u'Horror'\n",
      " u'Action, Comedy, Drama' u'Action, Adventure, Biography'\n",
      " u'Biography, Drama, History' u'Drama, Fantasy, Romance'\n",
      " u'Adventure, Comedy, Drama' u'Comedy, Drama, Thriller'\n",
      " u'Comedy, Crime, Musical' u'Drama, Fantasy, History'\n",
      " u'Drama, Romance, War' u'Musical, Romance' u'Documentary'\n",
      " u'Crime, Drama, Thriller' u'Action, Sci-Fi' u'Comedy, Drama, Mystery'\n",
      " u'Action, Drama, Mystery' u'Action, Romance, Thriller'\n",
      " u'Animation, Biography, Drama' u'Comedy, Drama, History' u'Drama, Mystery'\n",
      " u'Adventure, Romance, Sci-Fi' u'Romance, Sci-Fi' u'Drama, Horror, Romance'\n",
      " u'Biography, Drama, Romance' u'Biography, Drama, Musical'\n",
      " u'Comedy, Drama, Musical' u'Drama, Mystery, War'\n",
      " u'Drama, Horror, Thriller' u'Drama, Fantasy, Music' u'Drama, Musical'\n",
      " u'Comedy, Drama, Family' u'Romance' u'Comedy, Drama, Sport'\n",
      " u'Adventure, Drama, Family' u'Comedy, Crime' u'Adventure, Drama'\n",
      " u'Adventure, Drama, Sci-Fi' u'Comedy, Family, Fantasy' u'Drama, Family'\n",
      " u'History, Romance' u'Drama, History, Romance' u'Adventure, History'\n",
      " u'Action, Fantasy, Thriller' u'Adventure, Biography, Comedy'\n",
      " u'Crime, Drama, Romance' u'Drama, Romance, Sci-Fi'\n",
      " u'Action, Adventure, Romance' u'Fantasy, Romance'\n",
      " u'Adventure, Comedy, Western' u'Drama, Romance, Music'\n",
      " u'Adventure, Drama, Romance' u'Action, Drama' u'Musical, Drama, Romance'\n",
      " u'Comedy, Fantasy' u'Action, Comedy' u'Drama, Sport'\n",
      " u'Comedy, Horror, Mystery' u'Comedy, Sport' u'Drama, History, Music'\n",
      " u'Short, Romance' u'Music, Musical' u'Adventure, Comedy'\n",
      " u'Adventure, Comedy, Crime' u'Short, Drama, Fantasy'\n",
      " u'Adventure, Drama, Musical' u'Comedy, Documentary, Family'\n",
      " u'Comedy, Family, Romance' u'Drama, Music, Musical'\n",
      " u'Drama, Family, Fantasy' u'Animation, Action, Adventure'\n",
      " u'Drama, Romance, Comedy' u'Comedy, Mystery, Romance'\n",
      " u'Adventure, Drama, History' u'Drama, Music, War' u'Drama, Horror'\n",
      " u'War, Drama, Romance' u'Action' u'Action, Crime'\n",
      " u'Action, Drama, Fantasy' u'Action, Comedy, Musical'\n",
      " u'Comedy, Fantasy, Sci-Fi' u'Drama, Sci-Fi, Thriller'\n",
      " u'Comedy, Crime, Mystery' u'Short, Biography, Drama'\n",
      " u'Comedy, Crime, Romance' u'Biography, Drama, Sport'\n",
      " u'Crime, Mystery, Thriller' u'History, Thriller, War'\n",
      " u'Action, Comedy, Sport' u'Action, Biography, Crime'\n",
      " u'Comedy, Drama, Fantasy' u'Adult' u'Drama, Family, Sport'\n",
      " u'Short, Animation' u'Drama, History, Thriller' u'Action, Drama, History'\n",
      " u'Family, Comedy, Drama' u'Drama, Crime' u'War, Drama'\n",
      " u'Action, Crime, Fantasy' u'Comedy, Crime, Thriller'\n",
      " u'Thriller, Adventure, Mystery' u'Romance, Drama'\n",
      " u'Drama, Comedy, Romance' u'Action, Drama, Musical'\n",
      " u'Game-Show, Reality-TV' u'Musical' u'Biography, Drama, Fantasy'\n",
      " u'Horror, Thriller' u'Drama, Action, Comedy' u'Comedy, Fantasy, Horror'\n",
      " u'Family, Animation, Musical' u'Action, History'\n",
      " u'Action, Adventure, Thriller' u'Drama, War, Comedy'\n",
      " u'Documentary, Biography, Family' u'Adventure' u'Mystery, Thriller'\n",
      " u'Biography, Comedy' u'Action, Adventure, Crime' u'Drama, Music, Thriller'\n",
      " u'Comedy, Family, Sci-Fi' u'Animation, Short' u'Short, Comedy, Drama'\n",
      " u'Action, Drama, Crime' u'Comedy, Romance, Sport' u'Action, Adventure'\n",
      " u'Comedy, Sci-Fi' u'Fantasy' u'Documentary, Drama'\n",
      " u'Documentary, History, Music' u'Musical, Drama' u'Drama, Sport, War'\n",
      " u'Adventure, Drama, Fantasy' u'Drama, History, Horror'\n",
      " u'Action, Drama, Sport' u'Crime, Drama, Horror' u'Documentary, Musical'\n",
      " u'Comedy, Fantasy, Romance' u'Romance, Adventure, Drama' u'Family'\n",
      " u'Drama, Horror, Mystery' u'Horror, Romance, Thriller'\n",
      " u'Comedy, Musical, Romance' u'Crime' u'Romance, Thriller'\n",
      " u'Action, Drama, Comedy' u'News' u'Western' u'Biography'\n",
      " u'Documentary, Music' u'Action, Romance' u'Action, Comedy, Western'\n",
      " u'Action, Adventure, Horror' u'Horror, Sci-Fi, Thriller'\n",
      " u'Animation, Action, Sci-Fi' u'Reality-TV' u'Drama, Western'\n",
      " u'Drama, Fantasy, Horror' u'Thriller, Drama' u'Comedy, Thriller'\n",
      " u'Animation, Comedy, Family' u'Comedy, Crime, Sci-Fi'\n",
      " u'Crime, Mystery, Drama' u'Fantasy, Mystery, Romance' u'Game-Show'\n",
      " u'Comedy, Horror' u'Adventure, Thriller' u'Comedy, Musical'\n",
      " u'Documentary, Drama, Sport' u'Sci-Fi, Thriller'\n",
      " u'Documentary, Biography, Drama' u'Documentary, Adventure, Comedy'\n",
      " u'Drama, Fantasy, Mystery' u'Biography, Drama, Mystery'\n",
      " u'Fantasy, Horror, Thriller' u'Documentary, Biography, History'\n",
      " u'Documentary, Biography' u'Short, Horror' u'Crime, Drama, Music'\n",
      " u'Documentary, Romance, War' u'Action, Crime, Romance'\n",
      " u'Comedy, Crime, Music' u'Short, Comedy' u'Documentary, Comedy'\n",
      " u'Short, Fantasy, Mystery' u'Action, Fantasy'\n",
      " u'Adventure, Comedy, Fantasy' u'Action, Comedy, Horror'\n",
      " u'Comedy, Fantasy, Mystery' u'Drama, Fantasy, Sci-Fi' u'Documentary, War'\n",
      " u'Documentary, History' u'Comedy, Drama, Horror' u'Horror, Romance'\n",
      " u'Comedy, Music' u'Action, Drama, Horror' u'Drama, Sci-Fi'\n",
      " u'Horror, Mystery, Thriller' u'Crime, Drama, Musical'\n",
      " u'Action, Crime, Comedy' u'Documentary, Drama, History'\n",
      " u'Crime, Drama, History' u'Short, Adventure, Drama'\n",
      " u'Animation, Short, Musical' u'Action, Horror, Thriller'\n",
      " u'Romance, Drama, Comedy' u'Adventure, Family, Fantasy'\n",
      " u'Horror, Mystery, Sci-Fi' u'Biography, Drama, Family'\n",
      " u'Adventure, Comedy, Family' u'History']\n"
     ]
    }
   ],
   "source": [
    "print type(df.Genre[60])"
   ]
  },
  {
   "cell_type": "code",
   "execution_count": 46,
   "metadata": {
    "collapsed": false
   },
   "outputs": [],
   "source": [
    "df_metascore = df['Metascore']"
   ]
  },
  {
   "cell_type": "code",
   "execution_count": 48,
   "metadata": {
    "collapsed": false
   },
   "outputs": [
    {
     "data": {
      "text/plain": [
       "True"
      ]
     },
     "execution_count": 48,
     "metadata": {},
     "output_type": "execute_result"
    }
   ],
   "source": [
    "with open('just_metascore.pk1', 'w') as picklefile:\n",
    "    pickle.dump(df_metascore, picklefile)\n",
    "\n",
    "os.path.exists('just_metascore.pk1')"
   ]
  },
  {
   "cell_type": "code",
   "execution_count": null,
   "metadata": {
    "collapsed": true
   },
   "outputs": [],
   "source": []
  }
 ],
 "metadata": {
  "kernelspec": {
   "display_name": "Python 2",
   "language": "python",
   "name": "python2"
  },
  "language_info": {
   "codemirror_mode": {
    "name": "ipython",
    "version": 2
   },
   "file_extension": ".py",
   "mimetype": "text/x-python",
   "name": "python",
   "nbconvert_exporter": "python",
   "pygments_lexer": "ipython2",
   "version": "2.7.10"
  }
 },
 "nbformat": 4,
 "nbformat_minor": 0
}
