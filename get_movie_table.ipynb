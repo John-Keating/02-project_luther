{
 "cells": [
  {
   "cell_type": "markdown",
   "metadata": {},
   "source": [
    "### Get movie table\n",
    "This is a function that will:\n",
    "* take a list of urls\n",
    "* return a table of movie information (not cleaned)"
   ]
  },
  {
   "cell_type": "code",
   "execution_count": 9,
   "metadata": {
    "collapsed": true
   },
   "outputs": [],
   "source": [
    "## import libraries\n",
    "import pandas as pd\n",
    "import requests\n",
    "import re\n",
    "from bs4 import BeautifulSoup"
   ]
  },
  {
   "cell_type": "code",
   "execution_count": 10,
   "metadata": {
    "collapsed": true
   },
   "outputs": [],
   "source": [
    "# prototype the for loop with one url\n",
    "\n",
    "url = 'http://www.boxofficemojo.com/genres/chart/?id=foreign.htm'\n",
    "\n",
    "response = requests.get(url)"
   ]
  },
  {
   "cell_type": "markdown",
   "metadata": {},
   "source": [
    "The download date for this information is October 1"
   ]
  },
  {
   "cell_type": "code",
   "execution_count": 19,
   "metadata": {
    "collapsed": false
   },
   "outputs": [],
   "source": [
    "# return unicode\n",
    "\n",
    "soup = BeautifulSoup(response.text)"
   ]
  },
  {
   "cell_type": "code",
   "execution_count": 20,
   "metadata": {
    "collapsed": false
   },
   "outputs": [],
   "source": [
    "# soup won't be pickled"
   ]
  },
  {
   "cell_type": "code",
   "execution_count": 21,
   "metadata": {
    "collapsed": false
   },
   "outputs": [],
   "source": [
    "table1 =  soup.find_all('table')[2].find('table').find_all('tr')"
   ]
  },
  {
   "cell_type": "code",
   "execution_count": 22,
   "metadata": {
    "collapsed": false
   },
   "outputs": [
    {
     "name": "stdout",
     "output_type": "stream",
     "text": [
      "<class 'bs4.element.Tag'>\n"
     ]
    },
    {
     "data": {
      "text/plain": [
       "<tr bgcolor=\"#ffffff\"><td align=\"center\"><font size=\"2\">1</font></td>\\n<td><font size=\"2\"><a href=\"/movies/?id=crouchingtigerhiddendragon.htm\"><b>Crouching Tiger, Hidden Dragon</b></a><br/>(Taiwan)</font></td>\\n<td><font size=\"2\"><a href=\"/studio/chart/?studio=sonyclassics.htm\">SPC</a></font></td>\\n<td align=\"right\"><font size=\"2\"><b>$128,078,872</b></font></td>\\n<td align=\"right\"><font size=\"2\">2,027</font></td>\\n<td align=\"right\"><font size=\"2\">$663,205</font></td>\\n<td align=\"right\"><font size=\"2\">16</font></td>\\n<td align=\"right\"><font size=\"2\"><a href=\"/schedule/?view=bydate&amp;release=theatrical&amp;date=2000-12-08&amp;p=.htm\">12/8/00</a></font></td>\\n</tr>"
      ]
     },
     "execution_count": 22,
     "metadata": {},
     "output_type": "execute_result"
    }
   ],
   "source": [
    "print type(table1[0]) # these are the headers\n",
    "table1[1] # this is crouching tiger hidden dragon"
   ]
  },
  {
   "cell_type": "code",
   "execution_count": 8,
   "metadata": {
    "collapsed": false
   },
   "outputs": [
    {
     "ename": "AttributeError",
     "evalue": "'ResultSet' object has no attribute 'find'",
     "output_type": "error",
     "traceback": [
      "\u001b[0;31m---------------------------------------------------------------------------\u001b[0m",
      "\u001b[0;31mAttributeError\u001b[0m                            Traceback (most recent call last)",
      "\u001b[0;32m<ipython-input-8-3d0c4990f133>\u001b[0m in \u001b[0;36m<module>\u001b[0;34m()\u001b[0m\n\u001b[0;32m----> 1\u001b[0;31m \u001b[0mtable1\u001b[0m\u001b[0;34m.\u001b[0m\u001b[0mfind\u001b[0m\u001b[0;34m(\u001b[0m\u001b[0;34m'td'\u001b[0m\u001b[0;34m)\u001b[0m\u001b[0;34m\u001b[0m\u001b[0m\n\u001b[0m",
      "\u001b[0;31mAttributeError\u001b[0m: 'ResultSet' object has no attribute 'find'"
     ]
    }
   ],
   "source": [
    "table1_list = []\n",
    "for line in table1:\n",
    "    "
   ]
  },
  {
   "cell_type": "code",
   "execution_count": 43,
   "metadata": {
    "collapsed": false
   },
   "outputs": [],
   "source": [
    "table_body =  soup.find_all('table')[2].find('table')"
   ]
  },
  {
   "cell_type": "code",
   "execution_count": 51,
   "metadata": {
    "collapsed": false
   },
   "outputs": [],
   "source": [
    "data = []\n",
    "for row in table1:\n",
    "    cols = row.find_all('td')\n",
    "    cols =[ele.text.strip() for ele in cols]\n",
    "    data.append([ele for ele in cols if ele]) "
   ]
  },
  {
   "cell_type": "code",
   "execution_count": 53,
   "metadata": {
    "collapsed": false
   },
   "outputs": [],
   "source": [
    "df = pd.DataFrame(data)"
   ]
  },
  {
   "cell_type": "code",
   "execution_count": 62,
   "metadata": {
    "collapsed": true
   },
   "outputs": [],
   "source": [
    "# pickle the raw dataframe\n",
    "with open('main_for_page.pk1', 'w') as picklefile:\n",
    "    pickle.dump(df, picklefile)"
   ]
  },
  {
   "cell_type": "code",
   "execution_count": 63,
   "metadata": {
    "collapsed": false
   },
   "outputs": [
    {
     "name": "stdout",
     "output_type": "stream",
     "text": [
      "02-luther_link_list.ipynb get_movie_table.ipynb     url_list.pk1\r\n",
      "\u001b[34m_site\u001b[m\u001b[m                     main_for_page.pk1\r\n",
      "design_draft_format.md    main_page_soup.pk1\r\n"
     ]
    }
   ],
   "source": [
    "!ls"
   ]
  },
  {
   "cell_type": "code",
   "execution_count": 56,
   "metadata": {
    "collapsed": false
   },
   "outputs": [
    {
     "data": {
      "text/html": [
       "<div>\n",
       "<table border=\"1\" class=\"dataframe\">\n",
       "  <thead>\n",
       "    <tr style=\"text-align: right;\">\n",
       "      <th></th>\n",
       "      <th>0</th>\n",
       "      <th>1</th>\n",
       "      <th>2</th>\n",
       "      <th>3</th>\n",
       "      <th>4</th>\n",
       "      <th>5</th>\n",
       "      <th>6</th>\n",
       "      <th>7</th>\n",
       "    </tr>\n",
       "  </thead>\n",
       "  <tbody>\n",
       "    <tr>\n",
       "      <th>0</th>\n",
       "      <td>Rank</td>\n",
       "      <td>Title (click to view)</td>\n",
       "      <td>Studio</td>\n",
       "      <td>Lifetime Gross / Theaters</td>\n",
       "      <td>Opening / Theaters</td>\n",
       "      <td>Date</td>\n",
       "      <td>None</td>\n",
       "      <td>None</td>\n",
       "    </tr>\n",
       "    <tr>\n",
       "      <th>1</th>\n",
       "      <td>1</td>\n",
       "      <td>Crouching Tiger, Hidden Dragon(Taiwan)</td>\n",
       "      <td>SPC</td>\n",
       "      <td>$128,078,872</td>\n",
       "      <td>2,027</td>\n",
       "      <td>$663,205</td>\n",
       "      <td>16</td>\n",
       "      <td>12/8/00</td>\n",
       "    </tr>\n",
       "    <tr>\n",
       "      <th>2</th>\n",
       "      <td>2</td>\n",
       "      <td>Life Is Beautiful(Italy)</td>\n",
       "      <td>Mira.</td>\n",
       "      <td>$57,563,264</td>\n",
       "      <td>1,136</td>\n",
       "      <td>$118,920</td>\n",
       "      <td>6</td>\n",
       "      <td>10/23/98</td>\n",
       "    </tr>\n",
       "    <tr>\n",
       "      <th>3</th>\n",
       "      <td>3</td>\n",
       "      <td>Hero(China)</td>\n",
       "      <td>Mira.</td>\n",
       "      <td>$53,710,019</td>\n",
       "      <td>2,175</td>\n",
       "      <td>$18,004,319</td>\n",
       "      <td>2,031</td>\n",
       "      <td>8/27/04</td>\n",
       "    </tr>\n",
       "    <tr>\n",
       "      <th>4</th>\n",
       "      <td>4</td>\n",
       "      <td>Instructions Not Included</td>\n",
       "      <td>LGF</td>\n",
       "      <td>$44,467,206</td>\n",
       "      <td>978</td>\n",
       "      <td>$7,846,426</td>\n",
       "      <td>348</td>\n",
       "      <td>8/30/13</td>\n",
       "    </tr>\n",
       "  </tbody>\n",
       "</table>\n",
       "</div>"
      ],
      "text/plain": [
       "      0                                       1       2  \\\n",
       "0  Rank                   Title (click to view)  Studio   \n",
       "1     1  Crouching Tiger, Hidden Dragon(Taiwan)     SPC   \n",
       "2     2                Life Is Beautiful(Italy)   Mira.   \n",
       "3     3                             Hero(China)   Mira.   \n",
       "4     4               Instructions Not Included     LGF   \n",
       "\n",
       "                           3                   4            5      6         7  \n",
       "0  Lifetime Gross / Theaters  Opening / Theaters         Date   None      None  \n",
       "1               $128,078,872               2,027     $663,205     16   12/8/00  \n",
       "2                $57,563,264               1,136     $118,920      6  10/23/98  \n",
       "3                $53,710,019               2,175  $18,004,319  2,031   8/27/04  \n",
       "4                $44,467,206                 978   $7,846,426    348   8/30/13  "
      ]
     },
     "execution_count": 56,
     "metadata": {},
     "output_type": "execute_result"
    }
   ],
   "source": [
    "df.head()"
   ]
  },
  {
   "cell_type": "code",
   "execution_count": 57,
   "metadata": {
    "collapsed": false
   },
   "outputs": [
    {
     "data": {
      "text/html": [
       "<div>\n",
       "<table border=\"1\" class=\"dataframe\">\n",
       "  <thead>\n",
       "    <tr style=\"text-align: right;\">\n",
       "      <th></th>\n",
       "      <th>0</th>\n",
       "      <th>1</th>\n",
       "      <th>2</th>\n",
       "      <th>3</th>\n",
       "      <th>4</th>\n",
       "      <th>5</th>\n",
       "      <th>6</th>\n",
       "      <th>7</th>\n",
       "    </tr>\n",
       "  </thead>\n",
       "  <tbody>\n",
       "    <tr>\n",
       "      <th>100</th>\n",
       "      <td>100</td>\n",
       "      <td>With a Friend Like Harry(France)</td>\n",
       "      <td>Mira.</td>\n",
       "      <td>$3,830,441</td>\n",
       "      <td>220</td>\n",
       "      <td>$29,495</td>\n",
       "      <td>2</td>\n",
       "      <td>4/20/01</td>\n",
       "    </tr>\n",
       "    <tr>\n",
       "      <th>101</th>\n",
       "      <td>TOTAL (All Movies):</td>\n",
       "      <td>$1,854,066,637</td>\n",
       "      <td>-</td>\n",
       "      <td>-</td>\n",
       "      <td>-</td>\n",
       "      <td>-</td>\n",
       "      <td>None</td>\n",
       "      <td>None</td>\n",
       "    </tr>\n",
       "    <tr>\n",
       "      <th>102</th>\n",
       "      <td>AVERAGE (All Movies):</td>\n",
       "      <td>$1,046,904</td>\n",
       "      <td>45</td>\n",
       "      <td>$127,004</td>\n",
       "      <td>25</td>\n",
       "      <td>-</td>\n",
       "      <td>None</td>\n",
       "      <td>None</td>\n",
       "    </tr>\n",
       "    <tr>\n",
       "      <th>103</th>\n",
       "      <td>TOTAL(Wide Releases Only):</td>\n",
       "      <td>$444,621,727</td>\n",
       "      <td>-</td>\n",
       "      <td>-</td>\n",
       "      <td>-</td>\n",
       "      <td>-</td>\n",
       "      <td>None</td>\n",
       "      <td>None</td>\n",
       "    </tr>\n",
       "    <tr>\n",
       "      <th>104</th>\n",
       "      <td>AVERAGE(Wide Releases Only):</td>\n",
       "      <td>$26,154,219</td>\n",
       "      <td>1,313</td>\n",
       "      <td>$8,308,220</td>\n",
       "      <td>1,585</td>\n",
       "      <td>-</td>\n",
       "      <td>None</td>\n",
       "      <td>None</td>\n",
       "    </tr>\n",
       "  </tbody>\n",
       "</table>\n",
       "</div>"
      ],
      "text/plain": [
       "                                0                                 1      2  \\\n",
       "100                           100  With a Friend Like Harry(France)  Mira.   \n",
       "101           TOTAL (All Movies):                    $1,854,066,637      -   \n",
       "102         AVERAGE (All Movies):                        $1,046,904     45   \n",
       "103    TOTAL(Wide Releases Only):                      $444,621,727      -   \n",
       "104  AVERAGE(Wide Releases Only):                       $26,154,219  1,313   \n",
       "\n",
       "              3      4        5     6        7  \n",
       "100  $3,830,441    220  $29,495     2  4/20/01  \n",
       "101           -      -        -  None     None  \n",
       "102    $127,004     25        -  None     None  \n",
       "103           -      -        -  None     None  \n",
       "104  $8,308,220  1,585        -  None     None  "
      ]
     },
     "execution_count": 57,
     "metadata": {},
     "output_type": "execute_result"
    }
   ],
   "source": [
    "df.tail()"
   ]
  },
  {
   "cell_type": "code",
   "execution_count": 60,
   "metadata": {
    "collapsed": true
   },
   "outputs": [],
   "source": [
    "header = df.iloc[0]"
   ]
  },
  {
   "cell_type": "code",
   "execution_count": 61,
   "metadata": {
    "collapsed": false
   },
   "outputs": [
    {
     "name": "stdout",
     "output_type": "stream",
     "text": [
      "0                         Rank\n",
      "1        Title (click to view)\n",
      "2                       Studio\n",
      "3    Lifetime Gross / Theaters\n",
      "4           Opening / Theaters\n",
      "5                         Date\n",
      "6                         None\n",
      "7                         None\n",
      "Name: 0, dtype: object\n"
     ]
    }
   ],
   "source": [
    "print header"
   ]
  },
  {
   "cell_type": "code",
   "execution_count": 64,
   "metadata": {
    "collapsed": true
   },
   "outputs": [],
   "source": [
    "df = df.drop(0)"
   ]
  },
  {
   "cell_type": "code",
   "execution_count": 65,
   "metadata": {
    "collapsed": false
   },
   "outputs": [
    {
     "data": {
      "text/html": [
       "<div>\n",
       "<table border=\"1\" class=\"dataframe\">\n",
       "  <thead>\n",
       "    <tr style=\"text-align: right;\">\n",
       "      <th></th>\n",
       "      <th>0</th>\n",
       "      <th>1</th>\n",
       "      <th>2</th>\n",
       "      <th>3</th>\n",
       "      <th>4</th>\n",
       "      <th>5</th>\n",
       "      <th>6</th>\n",
       "      <th>7</th>\n",
       "    </tr>\n",
       "  </thead>\n",
       "  <tbody>\n",
       "    <tr>\n",
       "      <th>1</th>\n",
       "      <td>1</td>\n",
       "      <td>Crouching Tiger, Hidden Dragon(Taiwan)</td>\n",
       "      <td>SPC</td>\n",
       "      <td>$128,078,872</td>\n",
       "      <td>2,027</td>\n",
       "      <td>$663,205</td>\n",
       "      <td>16</td>\n",
       "      <td>12/8/00</td>\n",
       "    </tr>\n",
       "    <tr>\n",
       "      <th>2</th>\n",
       "      <td>2</td>\n",
       "      <td>Life Is Beautiful(Italy)</td>\n",
       "      <td>Mira.</td>\n",
       "      <td>$57,563,264</td>\n",
       "      <td>1,136</td>\n",
       "      <td>$118,920</td>\n",
       "      <td>6</td>\n",
       "      <td>10/23/98</td>\n",
       "    </tr>\n",
       "    <tr>\n",
       "      <th>3</th>\n",
       "      <td>3</td>\n",
       "      <td>Hero(China)</td>\n",
       "      <td>Mira.</td>\n",
       "      <td>$53,710,019</td>\n",
       "      <td>2,175</td>\n",
       "      <td>$18,004,319</td>\n",
       "      <td>2,031</td>\n",
       "      <td>8/27/04</td>\n",
       "    </tr>\n",
       "    <tr>\n",
       "      <th>4</th>\n",
       "      <td>4</td>\n",
       "      <td>Instructions Not Included</td>\n",
       "      <td>LGF</td>\n",
       "      <td>$44,467,206</td>\n",
       "      <td>978</td>\n",
       "      <td>$7,846,426</td>\n",
       "      <td>348</td>\n",
       "      <td>8/30/13</td>\n",
       "    </tr>\n",
       "    <tr>\n",
       "      <th>5</th>\n",
       "      <td>5</td>\n",
       "      <td>Pan's Labyrinth(Mexico)</td>\n",
       "      <td>PicH</td>\n",
       "      <td>$37,634,615</td>\n",
       "      <td>1,143</td>\n",
       "      <td>$568,641</td>\n",
       "      <td>17</td>\n",
       "      <td>12/29/06</td>\n",
       "    </tr>\n",
       "  </tbody>\n",
       "</table>\n",
       "</div>"
      ],
      "text/plain": [
       "   0                                       1      2             3      4  \\\n",
       "1  1  Crouching Tiger, Hidden Dragon(Taiwan)    SPC  $128,078,872  2,027   \n",
       "2  2                Life Is Beautiful(Italy)  Mira.   $57,563,264  1,136   \n",
       "3  3                             Hero(China)  Mira.   $53,710,019  2,175   \n",
       "4  4               Instructions Not Included    LGF   $44,467,206    978   \n",
       "5  5                 Pan's Labyrinth(Mexico)   PicH   $37,634,615  1,143   \n",
       "\n",
       "             5      6         7  \n",
       "1     $663,205     16   12/8/00  \n",
       "2     $118,920      6  10/23/98  \n",
       "3  $18,004,319  2,031   8/27/04  \n",
       "4   $7,846,426    348   8/30/13  \n",
       "5     $568,641     17  12/29/06  "
      ]
     },
     "execution_count": 65,
     "metadata": {},
     "output_type": "execute_result"
    }
   ],
   "source": [
    "df.head()"
   ]
  },
  {
   "cell_type": "code",
   "execution_count": null,
   "metadata": {
    "collapsed": true
   },
   "outputs": [],
   "source": []
  }
 ],
 "metadata": {
  "kernelspec": {
   "display_name": "Python 2",
   "language": "python",
   "name": "python2"
  },
  "language_info": {
   "codemirror_mode": {
    "name": "ipython",
    "version": 2
   },
   "file_extension": ".py",
   "mimetype": "text/x-python",
   "name": "python",
   "nbconvert_exporter": "python",
   "pygments_lexer": "ipython2",
   "version": "2.7.10"
  }
 },
 "nbformat": 4,
 "nbformat_minor": 0
}
