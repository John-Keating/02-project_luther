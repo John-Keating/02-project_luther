{
 "cells": [
  {
   "cell_type": "code",
   "execution_count": 1,
   "metadata": {
    "collapsed": true
   },
   "outputs": [],
   "source": [
    "# import libraries\n",
    "import pandas as pd\n",
    "import requests\n",
    "from bs4 import BeautifulSoup\n",
    "import string\n",
    "import pickle"
   ]
  },
  {
   "cell_type": "code",
   "execution_count": 29,
   "metadata": {
    "collapsed": true
   },
   "outputs": [],
   "source": [
    "def get_link_list(url):\n",
    "    '''\n",
    "    given the first foreign url on box office mojo this function \n",
    "    will find all the links to the subsequent pages of the chart\n",
    "    and return the urls as a list\n",
    "    '''\n",
    "    response = requests.get(url)\n",
    "    page = response.text\n",
    "    soup = BeautifulSoup(page)\n",
    "    link_soup = soup.find_all('b')[2]\n",
    "    \n",
    "    link_list = []\n",
    "    for link in link_soup.find_all('a'):\n",
    "        link_list.append(str(link))\n",
    "    \n",
    "    url_list = [url]\n",
    "    for url in link_list:\n",
    "        x = url.replace('<a href=\"', 'http://www.boxofficemojo.com').partition('\">')\n",
    "        y = x[0].replace('amp;', '') \n",
    "        url_list.append(y)\n",
    "    \n",
    "    return url_list"
   ]
  },
  {
   "cell_type": "code",
   "execution_count": 30,
   "metadata": {
    "collapsed": true
   },
   "outputs": [],
   "source": [
    "def get_movie_table(url):\n",
    "    '''\n",
    "    given a url for an Box Office Mojo site with a table\n",
    "    this function will return a dataframe based on the table\n",
    "    '''\n",
    "    response = requests.get(url)\n",
    "    soup = BeautifulSoup(response.text)\n",
    "    table1 =  soup.find_all('table')[2].find('table').find_all('tr')\n",
    "    \n",
    "    data = []\n",
    "    for row in table1:\n",
    "        cols = row.find_all('td')\n",
    "        cols =[ele.text.strip() for ele in cols]\n",
    "        data.append([ele for ele in cols if ele]) \n",
    "        \n",
    "    df = pd.DataFrame(data)\n",
    "    \n",
    "    return df"
   ]
  },
  {
   "cell_type": "code",
   "execution_count": 10,
   "metadata": {
    "collapsed": true
   },
   "outputs": [],
   "source": [
    "def get_film_urls(series):\n",
    "    '''\n",
    "    given a series of titles based on Box Office Mojo table\n",
    "    return a list of urls for the main pages of these films\n",
    "    '''  \n",
    "    title_ser = series.apply(lambda x: x.split('('))\n",
    "    \n",
    "    title_url_list = []\n",
    "    for title in title_ser.iteritems():\n",
    "        urlA = 'http://www.boxofficemojo.com/movies/?id='\n",
    "        urlB = '.htm'\n",
    "        title = title[1][0].lower().replace(' ', '')\n",
    "        title = title.encode('utf-8').translate(None, string.punctuation)\n",
    "        title_url_list.append(urlA + title + urlB)\n",
    "    \n",
    "    return title_url_list"
   ]
  },
  {
   "cell_type": "code",
   "execution_count": 32,
   "metadata": {
    "collapsed": true
   },
   "outputs": [],
   "source": [
    "def all_movie_tables(url):\n",
    "    url_list = get_link_list(url)\n",
    "    \n",
    "    # for loop over all the urls\n",
    "    df = pd.DataFrame()\n",
    "    for url in url_list:\n",
    "        table = get_movie_table(url)\n",
    "        df = df.append(table, ignore_index=True)\n",
    "    \n",
    "    df.columns = ['rank', 'title',\n",
    "                  'studio', 'gross',\n",
    "                  'theatres_life', 'opening',\n",
    "                 'theaters_opening', 'date']\n",
    "    return df"
   ]
  },
  {
   "cell_type": "code",
   "execution_count": 33,
   "metadata": {
    "collapsed": false
   },
   "outputs": [],
   "source": [
    "url = 'http://www.boxofficemojo.com/genres/chart/?id=foreign.htm'\n",
    "\n",
    "df = all_movie_tables(url)"
   ]
  },
  {
   "cell_type": "code",
   "execution_count": 34,
   "metadata": {
    "collapsed": false
   },
   "outputs": [
    {
     "name": "stdout",
     "output_type": "stream",
     "text": [
      "   rank                                   title  studio  \\\n",
      "0  Rank                   Title (click to view)  Studio   \n",
      "1     1  Crouching Tiger, Hidden Dragon(Taiwan)     SPC   \n",
      "2     2                Life Is Beautiful(Italy)   Mira.   \n",
      "3     3                             Hero(China)   Mira.   \n",
      "4     4               Instructions Not Included     LGF   \n",
      "\n",
      "                       gross       theatres_life      opening  \\\n",
      "0  Lifetime Gross / Theaters  Opening / Theaters         Date   \n",
      "1               $128,078,872               2,027     $663,205   \n",
      "2                $57,563,264               1,136     $118,920   \n",
      "3                $53,710,019               2,175  $18,004,319   \n",
      "4                $44,467,206                 978   $7,846,426   \n",
      "\n",
      "  theaters_opening      date  \n",
      "0             None      None  \n",
      "1               16   12/8/00  \n",
      "2                6  10/23/98  \n",
      "3            2,031   8/27/04  \n",
      "4              348   8/30/13  \n",
      "                              rank           title    studio       gross  \\\n",
      "1921                             -  Number One Fan  Distrib.         n/a   \n",
      "1922           TOTAL (All Movies):  $1,854,066,637         -           -   \n",
      "1923         AVERAGE (All Movies):      $1,046,904        45    $127,004   \n",
      "1924    TOTAL(Wide Releases Only):    $444,621,727         -           -   \n",
      "1925  AVERAGE(Wide Releases Only):     $26,154,219     1,313  $8,308,220   \n",
      "\n",
      "     theatres_life opening theaters_opening    date  \n",
      "1921             -     n/a                -  9/4/15  \n",
      "1922             -       -             None    None  \n",
      "1923            25       -             None    None  \n",
      "1924             -       -             None    None  \n",
      "1925         1,585       -             None    None  \n"
     ]
    }
   ],
   "source": [
    "print df.head()\n",
    "print df.tail()"
   ]
  },
  {
   "cell_type": "code",
   "execution_count": 39,
   "metadata": {
    "collapsed": false
   },
   "outputs": [],
   "source": [
    "with open('dirty_for_table.pk1', 'w') as picklefile:\n",
    "    pickle.dump(df, picklefile)"
   ]
  },
  {
   "cell_type": "code",
   "execution_count": 40,
   "metadata": {
    "collapsed": false
   },
   "outputs": [
    {
     "name": "stdout",
     "output_type": "stream",
     "text": [
      "02-luther_link_list.ipynb   get_movie_table.ipynb\r\n",
      "design_draft_format.md      main_for_page.pk1\r\n",
      "dirty_for_table             main_page_soup.pk1\r\n",
      "dirty_for_table.pk1         url_list.pk1\r\n",
      "get_all_filmpage_urls.ipynb url_title_list.pk1\r\n",
      "get_all_foreign_urls.ipynb\r\n"
     ]
    }
   ],
   "source": [
    "!ls"
   ]
  },
  {
   "cell_type": "code",
   "execution_count": 42,
   "metadata": {
    "collapsed": false
   },
   "outputs": [
    {
     "name": "stdout",
     "output_type": "stream",
     "text": [
      "                              rank  \\\n",
      "0                             Rank   \n",
      "1                                1   \n",
      "2                                2   \n",
      "3                                3   \n",
      "4                                4   \n",
      "5                                5   \n",
      "6                                6   \n",
      "7                                7   \n",
      "8                                8   \n",
      "9                                9   \n",
      "10                              10   \n",
      "11                              11   \n",
      "12                              12   \n",
      "13                              13   \n",
      "14                              14   \n",
      "15                              15   \n",
      "16                              16   \n",
      "17                              17   \n",
      "18                              18   \n",
      "19                              19   \n",
      "20                              20   \n",
      "21                              21   \n",
      "22                              22   \n",
      "23                              23   \n",
      "24                              24   \n",
      "25                              25   \n",
      "26                              26   \n",
      "27                              27   \n",
      "28                              28   \n",
      "29                              29   \n",
      "...                            ...   \n",
      "1896                             -   \n",
      "1897                             -   \n",
      "1898                             -   \n",
      "1899                             -   \n",
      "1900                             -   \n",
      "1901                             -   \n",
      "1902                             -   \n",
      "1903                             -   \n",
      "1904                             -   \n",
      "1905                             -   \n",
      "1906                             -   \n",
      "1907                             -   \n",
      "1908                             -   \n",
      "1909                             -   \n",
      "1910                             -   \n",
      "1911                             -   \n",
      "1912                             -   \n",
      "1913                             -   \n",
      "1914                             -   \n",
      "1915                             -   \n",
      "1916                             -   \n",
      "1917                             -   \n",
      "1918                             -   \n",
      "1919                             -   \n",
      "1920                             -   \n",
      "1921                             -   \n",
      "1922           TOTAL (All Movies):   \n",
      "1923         AVERAGE (All Movies):   \n",
      "1924    TOTAL(Wide Releases Only):   \n",
      "1925  AVERAGE(Wide Releases Only):   \n",
      "\n",
      "                                                  title    studio  \\\n",
      "0                                 Title (click to view)    Studio   \n",
      "1                Crouching Tiger, Hidden Dragon(Taiwan)       SPC   \n",
      "2                              Life Is Beautiful(Italy)     Mira.   \n",
      "3                                           Hero(China)     Mira.   \n",
      "4                             Instructions Not Included       LGF   \n",
      "5                               Pan's Labyrinth(Mexico)      PicH   \n",
      "6                                        Amelie(France)     Mira.   \n",
      "7                              Jet Li's Fearless(China)      Rog.   \n",
      "8                                     Il Postino(Italy)     Mira.   \n",
      "9                      Like Water for Chocolate(Mexico)     Mira.   \n",
      "10                           La Cage aux Folles(France)       MGM   \n",
      "11                                Kung Fu Hustle(China)       SPC   \n",
      "12                    The Motorcycle Diaries(Argentina)     Focus   \n",
      "13                               Iron Monkey(Hong Kong)     Mira.   \n",
      "14                               Monsoon Wedding(India)       USA   \n",
      "15                            Y Tu Mama Tambien(Mexico)       IFC   \n",
      "16                                        Volver(Spain)       SPC   \n",
      "17                                  Under the Same Moon     Wein.   \n",
      "18                               Cinema Paradiso(Italy)     Mira.   \n",
      "19                       The Protector (2006)(Thailand)      W/DD   \n",
      "20                                    Das Boot(Germany)      Col.   \n",
      "21                         The Lives of Others(Germany)       SPC   \n",
      "22                      Brotherhood of the Wolf(France)      Uni.   \n",
      "23                       House of Flying Daggers(China)       SPC   \n",
      "24                                                 P.K.       UTV   \n",
      "25                               La Vie en Rose(France)      PicH   \n",
      "26                         The Intouchables (U.S.-only)     Wein.   \n",
      "27                      The Girl with the Dragon Tattoo      MBox   \n",
      "28                               Shall We Dance?(Japan)     Mira.   \n",
      "29                                   Talk to Her(Spain)       SPC   \n",
      "...                                                 ...       ...   \n",
      "1896                                         Hors Satan      NYer   \n",
      "1897                                           Murder 3       FIP   \n",
      "1898                                       David (2013)   Relbig.   \n",
      "1899                                     I, Me Aur Main   Relbig.   \n",
      "1900                                          Aurangzeb      Yash   \n",
      "1901                                       1 Mile Above        AR   \n",
      "1902                                            Old Dog     Icar.   \n",
      "1903       The Machine Which Makes Everything Disappear     Icar.   \n",
      "1904                                       Bullett Raja       FIP   \n",
      "1905                                              D-Day      Yash   \n",
      "1906                                Shuddh Desi Romance      Yash   \n",
      "1907                 Once Upon a Time in Mumbai Dobaara       B4U   \n",
      "1908                                  The Snitch Cartel        PI   \n",
      "1909                                               Boss        KM   \n",
      "1910                                             Gunday      Yash   \n",
      "1911                                        Miss Lovely       Da.   \n",
      "1912                                             Antboy     Cdgm.   \n",
      "1913      When Evening Falls On Bucharest or Metabolism      CGld   \n",
      "1914                                     The Almost Man       BWP   \n",
      "1915                                          14 Blades      RTWC   \n",
      "1916  Once Upon a Time Veronica (Era uma vez eu, Ver...       BWP   \n",
      "1917                                     Killers (2015)     WGUSA   \n",
      "1918                                  Labyrinth of Lies       SPC   \n",
      "1919                             Police Story: Lockdown     WGUSA   \n",
      "1920                                      A Lonely Hero      Emr.   \n",
      "1921                                     Number One Fan  Distrib.   \n",
      "1922                                     $1,854,066,637         -   \n",
      "1923                                         $1,046,904        45   \n",
      "1924                                       $444,621,727         -   \n",
      "1925                                        $26,154,219     1,313   \n",
      "\n",
      "                          gross       theatres_life      opening  \\\n",
      "0     Lifetime Gross / Theaters  Opening / Theaters         Date   \n",
      "1                  $128,078,872               2,027     $663,205   \n",
      "2                   $57,563,264               1,136     $118,920   \n",
      "3                   $53,710,019               2,175  $18,004,319   \n",
      "4                   $44,467,206                 978   $7,846,426   \n",
      "5                   $37,634,615               1,143     $568,641   \n",
      "6                   $33,225,499                 303     $136,470   \n",
      "7                   $24,633,730               1,810  $10,590,244   \n",
      "8                   $21,848,932                 430      $95,310   \n",
      "9                   $21,665,468                  64      $23,600   \n",
      "10                  $20,424,259                   -      $18,709   \n",
      "11                  $17,108,591               2,503     $269,225   \n",
      "12                  $16,781,387                 272     $159,819   \n",
      "13                  $14,694,904               1,235   $6,014,653   \n",
      "14                  $13,885,966                 254      $68,546   \n",
      "15                  $13,839,658                 286     $408,091   \n",
      "16                  $12,899,867                 689     $197,703   \n",
      "17                  $12,590,147                 454   $2,769,655   \n",
      "18                  $12,397,210                 124      $16,552   \n",
      "19                  $12,044,087               1,541   $5,034,180   \n",
      "20                  $11,487,676                   2      $26,994   \n",
      "21                  $11,286,112                 259     $213,589   \n",
      "22                  $11,260,096                 405     $475,181   \n",
      "23                  $11,050,094               1,189     $397,472   \n",
      "24                  $10,616,104                 272   $3,565,258   \n",
      "25                  $10,301,706                 178     $179,848   \n",
      "26                  $10,198,820                 194     $103,507   \n",
      "27                  $10,095,170                 202     $335,502   \n",
      "28                   $9,499,091                   -          n/a   \n",
      "29                   $9,285,469                 255     $104,396   \n",
      "...                         ...                 ...          ...   \n",
      "1896                        n/a                   -          n/a   \n",
      "1897                        n/a                  12          n/a   \n",
      "1898                        n/a                   -          n/a   \n",
      "1899                        n/a                  43          n/a   \n",
      "1900                        n/a                  62          n/a   \n",
      "1901                        n/a                   -          n/a   \n",
      "1902                        n/a                   -          n/a   \n",
      "1903                        n/a                   -          n/a   \n",
      "1904                        n/a                   -          n/a   \n",
      "1905                        n/a                  52          n/a   \n",
      "1906                        n/a                   -          n/a   \n",
      "1907                        n/a                 122          n/a   \n",
      "1908                        n/a                   -          n/a   \n",
      "1909                        n/a                 103          n/a   \n",
      "1910                        n/a                 159          n/a   \n",
      "1911                        n/a                   -          n/a   \n",
      "1912                        n/a                   -          n/a   \n",
      "1913                        n/a                   -          n/a   \n",
      "1914                        n/a                   -          n/a   \n",
      "1915                        n/a                   4          n/a   \n",
      "1916                        n/a                   -          n/a   \n",
      "1917                        n/a                   -          n/a   \n",
      "1918                        n/a                   3          n/a   \n",
      "1919                        n/a                   -          n/a   \n",
      "1920                        n/a                   -          n/a   \n",
      "1921                        n/a                   -          n/a   \n",
      "1922                          -                   -            -   \n",
      "1923                   $127,004                  25            -   \n",
      "1924                          -                   -            -   \n",
      "1925                 $8,308,220               1,585            -   \n",
      "\n",
      "     theaters_opening       date  \n",
      "0                None       None  \n",
      "1                  16    12/8/00  \n",
      "2                   6   10/23/98  \n",
      "3               2,031    8/27/04  \n",
      "4                 348    8/30/13  \n",
      "5                  17   12/29/06  \n",
      "6                   3    11/2/01  \n",
      "7               1,806    9/22/06  \n",
      "8                  10    6/16/95  \n",
      "9                   2    2/19/93  \n",
      "10                  5    3/30/79  \n",
      "11                  7     4/8/05  \n",
      "12                  3    9/24/04  \n",
      "13              1,225   10/12/01  \n",
      "14                  2    2/22/02  \n",
      "15                 40    3/15/02  \n",
      "16                  5    11/3/06  \n",
      "17                266    3/19/08  \n",
      "18                  1     2/2/90  \n",
      "19              1,541     9/8/06  \n",
      "20                  2    2/10/82  \n",
      "21                  9     2/9/07  \n",
      "22                 21    1/11/02  \n",
      "23                 15    12/3/04  \n",
      "24                272   12/19/14  \n",
      "25                  8     6/8/07  \n",
      "26                  4    5/25/12  \n",
      "27                 34    3/19/10  \n",
      "28                  -    7/11/97  \n",
      "29                  2   11/22/02  \n",
      "...               ...        ...  \n",
      "1896                -    1/18/13  \n",
      "1897               12    2/14/13  \n",
      "1898                -     2/1/13  \n",
      "1899               43     3/1/13  \n",
      "1900               62    5/17/13  \n",
      "1901                -     6/7/13  \n",
      "1902                -    5/15/13  \n",
      "1903                -     8/2/13  \n",
      "1904                -   11/28/13  \n",
      "1905               52    7/19/13  \n",
      "1906                -     9/6/13  \n",
      "1907              122    8/15/13  \n",
      "1908                -   10/18/13  \n",
      "1909              103   10/16/13  \n",
      "1910              159    2/14/14  \n",
      "1911                -    6/20/14  \n",
      "1912                -    4/16/14  \n",
      "1913                -  Fall 2014  \n",
      "1914                -     8/1/14  \n",
      "1915                4    8/22/14  \n",
      "1916                -   11/28/14  \n",
      "1917                -    1/23/15  \n",
      "1918                3    9/30/15  \n",
      "1919                -     6/5/15  \n",
      "1920                -     5/8/15  \n",
      "1921                -     9/4/15  \n",
      "1922             None       None  \n",
      "1923             None       None  \n",
      "1924             None       None  \n",
      "1925             None       None  \n",
      "\n",
      "[1926 rows x 8 columns]\n"
     ]
    }
   ],
   "source": [
    "print df"
   ]
  },
  {
   "cell_type": "code",
   "execution_count": 5,
   "metadata": {
    "collapsed": true
   },
   "outputs": [],
   "source": [
    "with open('dirty_for_table.pk1', 'r') as picklefile:\n",
    "    df = pickle.load(picklefile)"
   ]
  },
  {
   "cell_type": "code",
   "execution_count": 6,
   "metadata": {
    "collapsed": false
   },
   "outputs": [
    {
     "name": "stdout",
     "output_type": "stream",
     "text": [
      "1926\n"
     ]
    }
   ],
   "source": [
    "print len(df)"
   ]
  },
  {
   "cell_type": "code",
   "execution_count": 7,
   "metadata": {
    "collapsed": false
   },
   "outputs": [],
   "source": [
    "# remove non-films from the df\n",
    "\n",
    "drop_list = ['Rank', 'TOTAL (All Movies):',\n",
    "            'AVERAGE (All Movies):', 'TOTAL(Wide Releases Only):',\n",
    "            'AVERAGE(Wide Releases Only):']\n",
    "\n",
    "df = df[~df['rank'].isin(drop_list)]"
   ]
  },
  {
   "cell_type": "code",
   "execution_count": 8,
   "metadata": {
    "collapsed": false
   },
   "outputs": [
    {
     "name": "stdout",
     "output_type": "stream",
     "text": [
      "1831\n"
     ]
    }
   ],
   "source": [
    "print len(df)"
   ]
  },
  {
   "cell_type": "code",
   "execution_count": 11,
   "metadata": {
    "collapsed": false
   },
   "outputs": [],
   "source": [
    "# get all film titles\n",
    "\n",
    "url_list = get_film_urls(df['title'])"
   ]
  },
  {
   "cell_type": "code",
   "execution_count": 12,
   "metadata": {
    "collapsed": true
   },
   "outputs": [],
   "source": [
    "with open('all_film_url_list.pk1', 'w') as picklefile:\n",
    "    pickle.dump(url_list, picklefile)"
   ]
  },
  {
   "cell_type": "code",
   "execution_count": 13,
   "metadata": {
    "collapsed": true
   },
   "outputs": [],
   "source": [
    "import urlparse\n",
    "import os\n",
    "\n",
    "def get_file(url):\n",
    "    '''\n",
    "    Takes url and returns a requests.get(url)\n",
    "    \n",
    "    Furthermore, create and saves directories/subdirectories and files from a url into your current working directory.\n",
    "    Thus, you will not have to make more than one request per url.\n",
    "    However, the function will not check if the file has been updated just if it was downloaded from before.\n",
    "    \n",
    "    Also, if the url is bad then it will print an Error and will return None\n",
    "    '''\n",
    "    parsed_url = urlparse.urlparse(url)\n",
    "    path = []\n",
    "    for item in parsed_url:\n",
    "        for x in item.split(\"/\"):\n",
    "            if x != '':\n",
    "                path.append(x)\n",
    "    outfile = path[-1]\n",
    "    path = path[:-1]\n",
    "    outpath = '/'.join(path)\n",
    "    \n",
    "    if not os.path.exists(outpath):\n",
    "        os.makedirs(outpath)\n",
    "    if not os.path.isfile(outpath + '/' + outfile + '.p'):\n",
    "        r = requests.get(url)\n",
    "        if r.status_code != requests.codes.ok:\n",
    "            print 'Error: request.get(url) Status NOT 200'\n",
    "            return None \n",
    "        pickle.dump(r, open('{}'.format(outpath + '/' + outfile + '.p'), 'wb'))\n",
    "    else:\n",
    "        r = pickle.load(open('{}'.format(outpath + '/' + outfile + '.p'), 'rb'))\n",
    "    return r"
   ]
  },
  {
   "cell_type": "code",
   "execution_count": 14,
   "metadata": {
    "collapsed": false
   },
   "outputs": [
    {
     "name": "stdout",
     "output_type": "stream",
     "text": [
      "Error: request.get(url) Status NOT 200\n",
      "Error: request.get(url) Status NOT 200\n"
     ]
    }
   ],
   "source": [
    "for url in url_list:\n",
    "    get_file(url)"
   ]
  },
  {
   "cell_type": "code",
   "execution_count": 1,
   "metadata": {
    "collapsed": false
   },
   "outputs": [
    {
     "ename": "NameError",
     "evalue": "name 'page' is not defined",
     "output_type": "error",
     "traceback": [
      "\u001b[0;31m---------------------------------------------------------------------------\u001b[0m",
      "\u001b[0;31mNameError\u001b[0m                                 Traceback (most recent call last)",
      "\u001b[0;32m<ipython-input-1-1e9d8b63d4f3>\u001b[0m in \u001b[0;36m<module>\u001b[0;34m()\u001b[0m\n\u001b[1;32m      1\u001b[0m \u001b[0;32mfrom\u001b[0m \u001b[0mlxml\u001b[0m \u001b[0;32mimport\u001b[0m \u001b[0mhtml\u001b[0m\u001b[0;34m\u001b[0m\u001b[0m\n\u001b[1;32m      2\u001b[0m \u001b[0;34m\u001b[0m\u001b[0m\n\u001b[0;32m----> 3\u001b[0;31m \u001b[0mtree\u001b[0m \u001b[0;34m=\u001b[0m \u001b[0mhtml\u001b[0m\u001b[0;34m.\u001b[0m\u001b[0mfromstring\u001b[0m\u001b[0;34m(\u001b[0m\u001b[0mpage\u001b[0m\u001b[0;34m.\u001b[0m\u001b[0mtext\u001b[0m\u001b[0;34m)\u001b[0m\u001b[0;34m\u001b[0m\u001b[0m\n\u001b[0m",
      "\u001b[0;31mNameError\u001b[0m: name 'page' is not defined"
     ]
    }
   ],
   "source": [
    "from lxml import html\n",
    "\n",
    "tree = html.fromstring(page.text)"
   ]
  },
  {
   "cell_type": "code",
   "execution_count": null,
   "metadata": {
    "collapsed": true
   },
   "outputs": [],
   "source": []
  }
 ],
 "metadata": {
  "kernelspec": {
   "display_name": "Python 2",
   "language": "python",
   "name": "python2"
  },
  "language_info": {
   "codemirror_mode": {
    "name": "ipython",
    "version": 2
   },
   "file_extension": ".py",
   "mimetype": "text/x-python",
   "name": "python",
   "nbconvert_exporter": "python",
   "pygments_lexer": "ipython2",
   "version": "2.7.10"
  }
 },
 "nbformat": 4,
 "nbformat_minor": 0
}
