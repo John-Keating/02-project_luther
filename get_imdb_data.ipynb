{
 "cells": [
  {
   "cell_type": "markdown",
   "metadata": {},
   "source": [
    "Get the IMDB information of foreign films"
   ]
  },
  {
   "cell_type": "code",
   "execution_count": 1,
   "metadata": {
    "collapsed": true
   },
   "outputs": [],
   "source": [
    "import requests\n",
    "from bs4 import BeautifulSoup\n",
    "import pandas as pd\n",
    "import pickle"
   ]
  },
  {
   "cell_type": "code",
   "execution_count": 58,
   "metadata": {
    "collapsed": true
   },
   "outputs": [],
   "source": [
    "def get_imdb_info(imdb_urls):\n",
    "    imdb_data = []\n",
    "    for api in imdb_urls:\n",
    "        r = requests.get(api)\n",
    "        imdb_data.append(r)\n",
    "    return imdb_data"
   ]
  },
  {
   "cell_type": "code",
   "execution_count": null,
   "metadata": {
    "collapsed": true
   },
   "outputs": [],
   "source": []
  },
  {
   "cell_type": "code",
   "execution_count": 6,
   "metadata": {
    "collapsed": false
   },
   "outputs": [],
   "source": [
    "# open list of foreign films df\n",
    "with open('dirty_for_table.pk1', 'r') as picklefile:\n",
    "    df = pickle.load(picklefile)"
   ]
  },
  {
   "cell_type": "code",
   "execution_count": 8,
   "metadata": {
    "collapsed": false
   },
   "outputs": [],
   "source": [
    "# clean up rows that are not movies\n",
    "# have words in the 'rank' column\n",
    "\n",
    "drop_list = ['Rank', 'TOTAL (All Movies):',\n",
    "            'AVERAGE (All Movies):', 'TOTAL(Wide Releases Only):',\n",
    "            'AVERAGE(Wide Releases Only):']\n",
    "\n",
    "df_clean_titles = df[~df['rank'].isin(drop_list)]\n"
   ]
  },
  {
   "cell_type": "code",
   "execution_count": 12,
   "metadata": {
    "collapsed": false
   },
   "outputs": [],
   "source": [
    "list_countries = list(df_clean_titles['title'])"
   ]
  },
  {
   "cell_type": "code",
   "execution_count": 14,
   "metadata": {
    "collapsed": false
   },
   "outputs": [],
   "source": [
    "titles = []\n",
    "for title in list_countries:\n",
    "    x = title.split('(')\n",
    "    titles.append(x[0])"
   ]
  },
  {
   "cell_type": "code",
   "execution_count": 15,
   "metadata": {
    "collapsed": true
   },
   "outputs": [],
   "source": [
    "def all_imdb_data(titles):\n",
    "    imdb_data = []\n",
    "    for title in titles:\n",
    "        response_j = get_imdb_info(title)\n",
    "        imdb_data.append(response_j)\n",
    "    return imdb_data"
   ]
  },
  {
   "cell_type": "code",
   "execution_count": 18,
   "metadata": {
    "collapsed": false
   },
   "outputs": [],
   "source": [
    "imdb_data = all_imdb_data(titles)"
   ]
  },
  {
   "cell_type": "code",
   "execution_count": 42,
   "metadata": {
    "collapsed": false
   },
   "outputs": [
    {
     "data": {
      "text/plain": [
       "dict"
      ]
     },
     "execution_count": 42,
     "metadata": {},
     "output_type": "execute_result"
    }
   ],
   "source": [
    "type(imdb_data[2].json())"
   ]
  },
  {
   "cell_type": "code",
   "execution_count": 34,
   "metadata": {
    "collapsed": false
   },
   "outputs": [],
   "source": [
    "x = 'http://www.omdbapi.com/?t=Crouching+Tiger%2C+Hidden+Dragon&y=&plot=short&r=json'"
   ]
  },
  {
   "cell_type": "code",
   "execution_count": 35,
   "metadata": {
    "collapsed": false
   },
   "outputs": [],
   "source": [
    "test = requests.get(x)"
   ]
  },
  {
   "cell_type": "code",
   "execution_count": 38,
   "metadata": {
    "collapsed": false
   },
   "outputs": [
    {
     "data": {
      "text/plain": [
       "dict"
      ]
     },
     "execution_count": 38,
     "metadata": {},
     "output_type": "execute_result"
    }
   ],
   "source": [
    "type(test.json())"
   ]
  },
  {
   "cell_type": "code",
   "execution_count": 30,
   "metadata": {
    "collapsed": false
   },
   "outputs": [
    {
     "data": {
      "text/plain": [
       "u'{\"Response\":\"False\",\"Error\":\"Object reference not set to an instance of an object.\"}'"
      ]
     },
     "execution_count": 30,
     "metadata": {},
     "output_type": "execute_result"
    }
   ],
   "source": [
    "x.text"
   ]
  },
  {
   "cell_type": "code",
   "execution_count": 48,
   "metadata": {
    "collapsed": true
   },
   "outputs": [],
   "source": [
    "def imdb_api_list(titles):\n",
    "    imdb_list = []\n",
    "    for title in titles:\n",
    "        title = title.strip()\n",
    "        title = title.replace(' ', '+')\n",
    "        title = title.replace(',', '%2C')\n",
    "        api_start = 'http://www.omdbapi.com/?t='\n",
    "        api_end = '&y=&plot=short&r=json'\n",
    "        api = api_start + title + api_end\n",
    "        imdb_list.append(api)\n",
    "        \n",
    "    return imdb_list"
   ]
  },
  {
   "cell_type": "code",
   "execution_count": 49,
   "metadata": {
    "collapsed": true
   },
   "outputs": [],
   "source": [
    "imdb_list = imdb_api_list(titles)"
   ]
  },
  {
   "cell_type": "code",
   "execution_count": 50,
   "metadata": {
    "collapsed": false
   },
   "outputs": [
    {
     "data": {
      "text/plain": [
       "u'http://www.omdbapi.com/?t=Crouching+Tiger%2C+Hidden+Dragon&y=&plot=short&r=json'"
      ]
     },
     "execution_count": 50,
     "metadata": {},
     "output_type": "execute_result"
    }
   ],
   "source": [
    "imdb_list[0]"
   ]
  },
  {
   "cell_type": "code",
   "execution_count": 51,
   "metadata": {
    "collapsed": false
   },
   "outputs": [
    {
     "data": {
      "text/plain": [
       "'http://www.omdbapi.com/?t=Crouching+Tiger%2C+Hidden+Dragon&y=&plot=short&r=json'"
      ]
     },
     "execution_count": 51,
     "metadata": {},
     "output_type": "execute_result"
    }
   ],
   "source": [
    "x"
   ]
  },
  {
   "cell_type": "code",
   "execution_count": 52,
   "metadata": {
    "collapsed": false
   },
   "outputs": [
    {
     "data": {
      "text/plain": [
       "79"
      ]
     },
     "execution_count": 52,
     "metadata": {},
     "output_type": "execute_result"
    }
   ],
   "source": [
    "len(imdb_list[0])"
   ]
  },
  {
   "cell_type": "code",
   "execution_count": 53,
   "metadata": {
    "collapsed": false
   },
   "outputs": [
    {
     "data": {
      "text/plain": [
       "79"
      ]
     },
     "execution_count": 53,
     "metadata": {},
     "output_type": "execute_result"
    }
   ],
   "source": [
    "len(x)"
   ]
  },
  {
   "cell_type": "code",
   "execution_count": 56,
   "metadata": {
    "collapsed": true
   },
   "outputs": [],
   "source": [
    "test2 = requests.get(imdb_list[0])"
   ]
  },
  {
   "cell_type": "code",
   "execution_count": 57,
   "metadata": {
    "collapsed": false
   },
   "outputs": [
    {
     "data": {
      "text/plain": [
       "{u'Actors': u'Yun-Fat Chow, Michelle Yeoh, Ziyi Zhang, Chen Chang',\n",
       " u'Awards': u'Won 4 Oscars. Another 111 wins & 107 nominations.',\n",
       " u'Country': u'Taiwan, Hong Kong, USA, China',\n",
       " u'Director': u'Ang Lee',\n",
       " u'Genre': u'Action, Drama, Romance',\n",
       " u'Language': u'Mandarin',\n",
       " u'Metascore': u'93',\n",
       " u'Plot': u\"Two warriors in pursuit of a stolen sword and a notorious fugitive are led to an impetuous, physically skilled, adolescent nobleman's daughter, who is at a crossroads in her life.\",\n",
       " u'Poster': u'http://ia.media-imdb.com/images/M/MV5BMTY5MjM4NjIxOF5BMl5BanBnXkFtZTcwNDg5NzU2OQ@@._V1_SX300.jpg',\n",
       " u'Rated': u'PG-13',\n",
       " u'Released': u'12 Jan 2001',\n",
       " u'Response': u'True',\n",
       " u'Runtime': u'120 min',\n",
       " u'Title': u'Crouching Tiger, Hidden Dragon',\n",
       " u'Type': u'movie',\n",
       " u'Writer': u'Du Lu Wang (book), Hui-Ling Wang (screenplay), James Schamus (screenplay), Kuo Jung Tsai (screenplay)',\n",
       " u'Year': u'2000',\n",
       " u'imdbID': u'tt0190332',\n",
       " u'imdbRating': u'7.9',\n",
       " u'imdbVotes': u'205,400'}"
      ]
     },
     "execution_count": 57,
     "metadata": {},
     "output_type": "execute_result"
    }
   ],
   "source": [
    "test2.json()"
   ]
  },
  {
   "cell_type": "code",
   "execution_count": 60,
   "metadata": {
    "collapsed": false
   },
   "outputs": [],
   "source": [
    "imdb_data = get_imdb_info(imdb_list)"
   ]
  },
  {
   "cell_type": "code",
   "execution_count": 72,
   "metadata": {
    "collapsed": false
   },
   "outputs": [
    {
     "ename": "AttributeError",
     "evalue": "'list' object has no attribute 'json'",
     "output_type": "error",
     "traceback": [
      "\u001b[0;31m---------------------------------------------------------------------------\u001b[0m",
      "\u001b[0;31mAttributeError\u001b[0m                            Traceback (most recent call last)",
      "\u001b[0;32m<ipython-input-72-e0ed35644c87>\u001b[0m in \u001b[0;36m<module>\u001b[0;34m()\u001b[0m\n\u001b[0;32m----> 1\u001b[0;31m \u001b[0mimdb_data\u001b[0m\u001b[0;34m.\u001b[0m\u001b[0mjson\u001b[0m\u001b[0;34m(\u001b[0m\u001b[0;34m)\u001b[0m\u001b[0;34m\u001b[0m\u001b[0m\n\u001b[0m",
      "\u001b[0;31mAttributeError\u001b[0m: 'list' object has no attribute 'json'"
     ]
    }
   ],
   "source": [
    "imdb_data.json()"
   ]
  },
  {
   "cell_type": "code",
   "execution_count": 65,
   "metadata": {
    "collapsed": false
   },
   "outputs": [],
   "source": [
    "with open('imdb_data_j.pk1', 'w') as picklefile:\n",
    "    pickle.dump(imdb_data, picklefile)"
   ]
  },
  {
   "cell_type": "code",
   "execution_count": 4,
   "metadata": {
    "collapsed": true
   },
   "outputs": [],
   "source": [
    "with open('imdb_data_j.pk1', 'r') as picklefile:\n",
    "    imdb_j = pickle.load(picklefile)"
   ]
  },
  {
   "cell_type": "code",
   "execution_count": 5,
   "metadata": {
    "collapsed": false,
    "scrolled": true
   },
   "outputs": [
    {
     "data": {
      "text/plain": [
       "{u'Actors': u'Jet Li, Tony Chiu Wai Leung, Maggie Cheung, Ziyi Zhang',\n",
       " u'Awards': u'Nominated for 1 Oscar. Another 34 wins & 26 nominations.',\n",
       " u'Country': u'China, Hong Kong',\n",
       " u'Director': u'Yimou Zhang',\n",
       " u'Genre': u'Action, Adventure, History',\n",
       " u'Language': u'Mandarin',\n",
       " u'Metascore': u'84',\n",
       " u'Plot': u'A defense officer, Nameless, was summoned by the King of Qin regarding his success of terminating three warriors.',\n",
       " u'Poster': u'http://ia.media-imdb.com/images/M/MV5BMTk5NjQyMzIwM15BMl5BanBnXkFtZTcwODQyNjYyMQ@@._V1_SX300.jpg',\n",
       " u'Rated': u'PG-13',\n",
       " u'Released': u'27 Aug 2004',\n",
       " u'Response': u'True',\n",
       " u'Runtime': u'99 min',\n",
       " u'Title': u'Hero',\n",
       " u'Type': u'movie',\n",
       " u'Writer': u'Feng Li, Bin Wang, Yimou Zhang',\n",
       " u'Year': u'2002',\n",
       " u'imdbID': u'tt0299977',\n",
       " u'imdbRating': u'7.9',\n",
       " u'imdbVotes': u'142,006'}"
      ]
     },
     "execution_count": 5,
     "metadata": {},
     "output_type": "execute_result"
    }
   ],
   "source": [
    "imdb_j[2].json() # seems to work!!!"
   ]
  },
  {
   "cell_type": "code",
   "execution_count": 6,
   "metadata": {
    "collapsed": false
   },
   "outputs": [],
   "source": [
    "# turn the json entries into dictionaries\n",
    "imdb_d_list = []\n",
    "for i in imdb_j:\n",
    "    imdb_d_list.append(i.json())"
   ]
  },
  {
   "cell_type": "code",
   "execution_count": 7,
   "metadata": {
    "collapsed": false
   },
   "outputs": [],
   "source": [
    "imdb_df = pd.DataFrame(imdb_d_list)"
   ]
  },
  {
   "cell_type": "code",
   "execution_count": 8,
   "metadata": {
    "collapsed": false
   },
   "outputs": [
    {
     "data": {
      "text/plain": [
       "Index([    u'Actors',     u'Awards',    u'Country',   u'Director',\n",
       "            u'Error',      u'Genre',   u'Language',  u'Metascore',\n",
       "             u'Plot',     u'Poster',      u'Rated',   u'Released',\n",
       "         u'Response',    u'Runtime',      u'Title',       u'Type',\n",
       "           u'Writer',       u'Year',     u'imdbID', u'imdbRating',\n",
       "        u'imdbVotes'],\n",
       "      dtype='object')"
      ]
     },
     "execution_count": 8,
     "metadata": {},
     "output_type": "execute_result"
    }
   ],
   "source": [
    "imdb_collist = imdb_df.columns\n",
    "imdb_collist"
   ]
  },
  {
   "cell_type": "code",
   "execution_count": 9,
   "metadata": {
    "collapsed": false
   },
   "outputs": [
    {
     "data": {
      "text/plain": [
       "1831"
      ]
     },
     "execution_count": 9,
     "metadata": {},
     "output_type": "execute_result"
    }
   ],
   "source": [
    "len(imdb_df)"
   ]
  },
  {
   "cell_type": "code",
   "execution_count": 10,
   "metadata": {
    "collapsed": true
   },
   "outputs": [],
   "source": [
    "#pickle the dataframe\n",
    "\n",
    "with open('imdb_df.pk1', 'w') as picklefile:\n",
    "    pickle.dump(imdb_df, picklefile)"
   ]
  },
  {
   "cell_type": "code",
   "execution_count": null,
   "metadata": {
    "collapsed": true
   },
   "outputs": [],
   "source": []
  }
 ],
 "metadata": {
  "kernelspec": {
   "display_name": "Python 2",
   "language": "python",
   "name": "python2"
  },
  "language_info": {
   "codemirror_mode": {
    "name": "ipython",
    "version": 2
   },
   "file_extension": ".py",
   "mimetype": "text/x-python",
   "name": "python",
   "nbconvert_exporter": "python",
   "pygments_lexer": "ipython2",
   "version": "2.7.10"
  }
 },
 "nbformat": 4,
 "nbformat_minor": 0
}
