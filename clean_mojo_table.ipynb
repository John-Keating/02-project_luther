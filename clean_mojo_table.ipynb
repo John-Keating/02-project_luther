{
 "cells": [
  {
   "cell_type": "markdown",
   "metadata": {},
   "source": [
    "### Cleaning the Box Office Mojo Table"
   ]
  },
  {
   "cell_type": "code",
   "execution_count": 15,
   "metadata": {
    "collapsed": true
   },
   "outputs": [],
   "source": [
    "import pickle\n",
    "import pandas as pd\n",
    "import string\n",
    "import numpy as np"
   ]
  },
  {
   "cell_type": "code",
   "execution_count": 2,
   "metadata": {
    "collapsed": false
   },
   "outputs": [],
   "source": [
    "# open list of foreign films df\n",
    "with open('dirty_for_table.pk1', 'r') as picklefile:\n",
    "    df = pickle.load(picklefile)"
   ]
  },
  {
   "cell_type": "code",
   "execution_count": 3,
   "metadata": {
    "collapsed": true
   },
   "outputs": [],
   "source": [
    "# clean up rows that are not movies\n",
    "# have words in the 'rank' column\n",
    "\n",
    "drop_list = ['Rank', 'TOTAL (All Movies):',\n",
    "            'AVERAGE (All Movies):', 'TOTAL(Wide Releases Only):',\n",
    "            'AVERAGE(Wide Releases Only):']\n",
    "\n",
    "df = df[~df['rank'].isin(drop_list)]"
   ]
  },
  {
   "cell_type": "code",
   "execution_count": 4,
   "metadata": {
    "collapsed": false
   },
   "outputs": [],
   "source": [
    "df['title'] = df['title'].apply(lambda x: x.split('(')[0])"
   ]
  },
  {
   "cell_type": "code",
   "execution_count": 5,
   "metadata": {
    "collapsed": false
   },
   "outputs": [
    {
     "data": {
      "text/html": [
       "<div>\n",
       "<table border=\"1\" class=\"dataframe\">\n",
       "  <thead>\n",
       "    <tr style=\"text-align: right;\">\n",
       "      <th></th>\n",
       "      <th>rank</th>\n",
       "      <th>title</th>\n",
       "      <th>studio</th>\n",
       "      <th>gross</th>\n",
       "      <th>theatres_life</th>\n",
       "      <th>opening</th>\n",
       "      <th>theaters_opening</th>\n",
       "      <th>date</th>\n",
       "    </tr>\n",
       "  </thead>\n",
       "  <tbody>\n",
       "    <tr>\n",
       "      <th>1</th>\n",
       "      <td>1</td>\n",
       "      <td>Crouching Tiger, Hidden Dragon</td>\n",
       "      <td>SPC</td>\n",
       "      <td>$128,078,872</td>\n",
       "      <td>2,027</td>\n",
       "      <td>$663,205</td>\n",
       "      <td>16</td>\n",
       "      <td>12/8/00</td>\n",
       "    </tr>\n",
       "    <tr>\n",
       "      <th>2</th>\n",
       "      <td>2</td>\n",
       "      <td>Life Is Beautiful</td>\n",
       "      <td>Mira.</td>\n",
       "      <td>$57,563,264</td>\n",
       "      <td>1,136</td>\n",
       "      <td>$118,920</td>\n",
       "      <td>6</td>\n",
       "      <td>10/23/98</td>\n",
       "    </tr>\n",
       "    <tr>\n",
       "      <th>3</th>\n",
       "      <td>3</td>\n",
       "      <td>Hero</td>\n",
       "      <td>Mira.</td>\n",
       "      <td>$53,710,019</td>\n",
       "      <td>2,175</td>\n",
       "      <td>$18,004,319</td>\n",
       "      <td>2,031</td>\n",
       "      <td>8/27/04</td>\n",
       "    </tr>\n",
       "    <tr>\n",
       "      <th>4</th>\n",
       "      <td>4</td>\n",
       "      <td>Instructions Not Included</td>\n",
       "      <td>LGF</td>\n",
       "      <td>$44,467,206</td>\n",
       "      <td>978</td>\n",
       "      <td>$7,846,426</td>\n",
       "      <td>348</td>\n",
       "      <td>8/30/13</td>\n",
       "    </tr>\n",
       "    <tr>\n",
       "      <th>5</th>\n",
       "      <td>5</td>\n",
       "      <td>Pan's Labyrinth</td>\n",
       "      <td>PicH</td>\n",
       "      <td>$37,634,615</td>\n",
       "      <td>1,143</td>\n",
       "      <td>$568,641</td>\n",
       "      <td>17</td>\n",
       "      <td>12/29/06</td>\n",
       "    </tr>\n",
       "  </tbody>\n",
       "</table>\n",
       "</div>"
      ],
      "text/plain": [
       "  rank                           title studio         gross theatres_life  \\\n",
       "1    1  Crouching Tiger, Hidden Dragon    SPC  $128,078,872         2,027   \n",
       "2    2               Life Is Beautiful  Mira.   $57,563,264         1,136   \n",
       "3    3                            Hero  Mira.   $53,710,019         2,175   \n",
       "4    4       Instructions Not Included    LGF   $44,467,206           978   \n",
       "5    5                 Pan's Labyrinth   PicH   $37,634,615         1,143   \n",
       "\n",
       "       opening theaters_opening      date  \n",
       "1     $663,205               16   12/8/00  \n",
       "2     $118,920                6  10/23/98  \n",
       "3  $18,004,319            2,031   8/27/04  \n",
       "4   $7,846,426              348   8/30/13  \n",
       "5     $568,641               17  12/29/06  "
      ]
     },
     "execution_count": 5,
     "metadata": {},
     "output_type": "execute_result"
    }
   ],
   "source": [
    "df.head()"
   ]
  },
  {
   "cell_type": "code",
   "execution_count": 42,
   "metadata": {
    "collapsed": false
   },
   "outputs": [],
   "source": [
    "df['gross'] = df['gross'].apply(lambda x: str(x).translate(None, string.punctuation))\n",
    "df['gross'][df.gross == 'na'] = np.nan"
   ]
  },
  {
   "cell_type": "code",
   "execution_count": 45,
   "metadata": {
    "collapsed": false
   },
   "outputs": [],
   "source": [
    "df['opening'] = df['opening'].apply(lambda x: str(x).translate(None, string.punctuation))\n",
    "df['opening'][df['opening'] == 'n/a'] = np.nan"
   ]
  },
  {
   "cell_type": "code",
   "execution_count": 47,
   "metadata": {
    "collapsed": false
   },
   "outputs": [],
   "source": [
    "df['date'] = df['date'].apply(lambda x: pd.to_datetime(x))"
   ]
  },
  {
   "cell_type": "code",
   "execution_count": 48,
   "metadata": {
    "collapsed": false
   },
   "outputs": [
    {
     "data": {
      "text/html": [
       "<div>\n",
       "<table border=\"1\" class=\"dataframe\">\n",
       "  <thead>\n",
       "    <tr style=\"text-align: right;\">\n",
       "      <th></th>\n",
       "      <th>rank</th>\n",
       "      <th>title</th>\n",
       "      <th>studio</th>\n",
       "      <th>gross</th>\n",
       "      <th>theatres_life</th>\n",
       "      <th>opening</th>\n",
       "      <th>theaters_opening</th>\n",
       "      <th>date</th>\n",
       "    </tr>\n",
       "  </thead>\n",
       "  <tbody>\n",
       "    <tr>\n",
       "      <th>1</th>\n",
       "      <td>1</td>\n",
       "      <td>Crouching Tiger, Hidden Dragon</td>\n",
       "      <td>SPC</td>\n",
       "      <td>128078872</td>\n",
       "      <td>2,027</td>\n",
       "      <td>663205</td>\n",
       "      <td>16</td>\n",
       "      <td>2000-12-08 00:00:00</td>\n",
       "    </tr>\n",
       "    <tr>\n",
       "      <th>2</th>\n",
       "      <td>2</td>\n",
       "      <td>Life Is Beautiful</td>\n",
       "      <td>Mira.</td>\n",
       "      <td>57563264</td>\n",
       "      <td>1,136</td>\n",
       "      <td>118920</td>\n",
       "      <td>6</td>\n",
       "      <td>1998-10-23 00:00:00</td>\n",
       "    </tr>\n",
       "    <tr>\n",
       "      <th>3</th>\n",
       "      <td>3</td>\n",
       "      <td>Hero</td>\n",
       "      <td>Mira.</td>\n",
       "      <td>53710019</td>\n",
       "      <td>2,175</td>\n",
       "      <td>18004319</td>\n",
       "      <td>2,031</td>\n",
       "      <td>2004-08-27 00:00:00</td>\n",
       "    </tr>\n",
       "    <tr>\n",
       "      <th>4</th>\n",
       "      <td>4</td>\n",
       "      <td>Instructions Not Included</td>\n",
       "      <td>LGF</td>\n",
       "      <td>44467206</td>\n",
       "      <td>978</td>\n",
       "      <td>7846426</td>\n",
       "      <td>348</td>\n",
       "      <td>2013-08-30 00:00:00</td>\n",
       "    </tr>\n",
       "    <tr>\n",
       "      <th>5</th>\n",
       "      <td>5</td>\n",
       "      <td>Pan's Labyrinth</td>\n",
       "      <td>PicH</td>\n",
       "      <td>37634615</td>\n",
       "      <td>1,143</td>\n",
       "      <td>568641</td>\n",
       "      <td>17</td>\n",
       "      <td>2006-12-29 00:00:00</td>\n",
       "    </tr>\n",
       "  </tbody>\n",
       "</table>\n",
       "</div>"
      ],
      "text/plain": [
       "  rank                           title studio      gross theatres_life  \\\n",
       "1    1  Crouching Tiger, Hidden Dragon    SPC  128078872         2,027   \n",
       "2    2               Life Is Beautiful  Mira.   57563264         1,136   \n",
       "3    3                            Hero  Mira.   53710019         2,175   \n",
       "4    4       Instructions Not Included    LGF   44467206           978   \n",
       "5    5                 Pan's Labyrinth   PicH   37634615         1,143   \n",
       "\n",
       "    opening theaters_opening                 date  \n",
       "1    663205               16  2000-12-08 00:00:00  \n",
       "2    118920                6  1998-10-23 00:00:00  \n",
       "3  18004319            2,031  2004-08-27 00:00:00  \n",
       "4   7846426              348  2013-08-30 00:00:00  \n",
       "5    568641               17  2006-12-29 00:00:00  "
      ]
     },
     "execution_count": 48,
     "metadata": {},
     "output_type": "execute_result"
    }
   ],
   "source": [
    "df.head()"
   ]
  },
  {
   "cell_type": "code",
   "execution_count": 49,
   "metadata": {
    "collapsed": false
   },
   "outputs": [
    {
     "data": {
      "text/html": [
       "<div>\n",
       "<table border=\"1\" class=\"dataframe\">\n",
       "  <thead>\n",
       "    <tr style=\"text-align: right;\">\n",
       "      <th></th>\n",
       "      <th>rank</th>\n",
       "      <th>title</th>\n",
       "      <th>studio</th>\n",
       "      <th>gross</th>\n",
       "      <th>theatres_life</th>\n",
       "      <th>opening</th>\n",
       "      <th>theaters_opening</th>\n",
       "      <th>date</th>\n",
       "    </tr>\n",
       "  </thead>\n",
       "  <tbody>\n",
       "    <tr>\n",
       "      <th>1917</th>\n",
       "      <td>-</td>\n",
       "      <td>Killers</td>\n",
       "      <td>WGUSA</td>\n",
       "      <td>NaN</td>\n",
       "      <td>-</td>\n",
       "      <td>NaN</td>\n",
       "      <td>-</td>\n",
       "      <td>2015-01-23 00:00:00</td>\n",
       "    </tr>\n",
       "    <tr>\n",
       "      <th>1918</th>\n",
       "      <td>-</td>\n",
       "      <td>Labyrinth of Lies</td>\n",
       "      <td>SPC</td>\n",
       "      <td>NaN</td>\n",
       "      <td>3</td>\n",
       "      <td>NaN</td>\n",
       "      <td>3</td>\n",
       "      <td>2015-09-30 00:00:00</td>\n",
       "    </tr>\n",
       "    <tr>\n",
       "      <th>1919</th>\n",
       "      <td>-</td>\n",
       "      <td>Police Story: Lockdown</td>\n",
       "      <td>WGUSA</td>\n",
       "      <td>NaN</td>\n",
       "      <td>-</td>\n",
       "      <td>NaN</td>\n",
       "      <td>-</td>\n",
       "      <td>2015-06-05 00:00:00</td>\n",
       "    </tr>\n",
       "    <tr>\n",
       "      <th>1920</th>\n",
       "      <td>-</td>\n",
       "      <td>A Lonely Hero</td>\n",
       "      <td>Emr.</td>\n",
       "      <td>NaN</td>\n",
       "      <td>-</td>\n",
       "      <td>NaN</td>\n",
       "      <td>-</td>\n",
       "      <td>2015-05-08 00:00:00</td>\n",
       "    </tr>\n",
       "    <tr>\n",
       "      <th>1921</th>\n",
       "      <td>-</td>\n",
       "      <td>Number One Fan</td>\n",
       "      <td>Distrib.</td>\n",
       "      <td>NaN</td>\n",
       "      <td>-</td>\n",
       "      <td>NaN</td>\n",
       "      <td>-</td>\n",
       "      <td>2015-09-04 00:00:00</td>\n",
       "    </tr>\n",
       "  </tbody>\n",
       "</table>\n",
       "</div>"
      ],
      "text/plain": [
       "     rank                   title    studio gross theatres_life opening  \\\n",
       "1917    -                Killers      WGUSA   NaN             -     NaN   \n",
       "1918    -       Labyrinth of Lies       SPC   NaN             3     NaN   \n",
       "1919    -  Police Story: Lockdown     WGUSA   NaN             -     NaN   \n",
       "1920    -           A Lonely Hero      Emr.   NaN             -     NaN   \n",
       "1921    -          Number One Fan  Distrib.   NaN             -     NaN   \n",
       "\n",
       "     theaters_opening                 date  \n",
       "1917                -  2015-01-23 00:00:00  \n",
       "1918                3  2015-09-30 00:00:00  \n",
       "1919                -  2015-06-05 00:00:00  \n",
       "1920                -  2015-05-08 00:00:00  \n",
       "1921                -  2015-09-04 00:00:00  "
      ]
     },
     "execution_count": 49,
     "metadata": {},
     "output_type": "execute_result"
    }
   ],
   "source": [
    "df.tail()"
   ]
  },
  {
   "cell_type": "code",
   "execution_count": 50,
   "metadata": {
    "collapsed": false
   },
   "outputs": [
    {
     "data": {
      "text/plain": [
       "1831"
      ]
     },
     "execution_count": 50,
     "metadata": {},
     "output_type": "execute_result"
    }
   ],
   "source": [
    "len(df)"
   ]
  },
  {
   "cell_type": "code",
   "execution_count": 52,
   "metadata": {
    "collapsed": false
   },
   "outputs": [],
   "source": [
    "with open('clean_mojo_df.pk1', 'w') as picklefile:\n",
    "    pickle.dump(df, picklefile)"
   ]
  },
  {
   "cell_type": "code",
   "execution_count": null,
   "metadata": {
    "collapsed": true
   },
   "outputs": [],
   "source": []
  }
 ],
 "metadata": {
  "kernelspec": {
   "display_name": "Python 2",
   "language": "python",
   "name": "python2"
  },
  "language_info": {
   "codemirror_mode": {
    "name": "ipython",
    "version": 2
   },
   "file_extension": ".py",
   "mimetype": "text/x-python",
   "name": "python",
   "nbconvert_exporter": "python",
   "pygments_lexer": "ipython2",
   "version": "2.7.10"
  }
 },
 "nbformat": 4,
 "nbformat_minor": 0
}
