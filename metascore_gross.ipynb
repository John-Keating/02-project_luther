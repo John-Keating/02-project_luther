{
 "cells": [
  {
   "cell_type": "code",
   "execution_count": 10,
   "metadata": {
    "collapsed": true
   },
   "outputs": [],
   "source": [
    "import pickle\n",
    "import pandas as pd\n",
    "import matplotlib as mpl\n",
    "import matplotlib.pyplot as plt\n",
    "import seaborn as sns"
   ]
  },
  {
   "cell_type": "code",
   "execution_count": 11,
   "metadata": {
    "collapsed": true
   },
   "outputs": [],
   "source": [
    "# let's unpickle the two files\n",
    "\n",
    "# award df\n",
    "with open('just_metascore.pk1', 'r') as picklefile:\n",
    "    metascore_df = pickle.load(picklefile)\n",
    "\n",
    "# gross box office df\n",
    "with open('clean_mojo_df.pk1', 'r') as picklefile:\n",
    "    mojo_df = pickle.load(picklefile)"
   ]
  },
  {
   "cell_type": "code",
   "execution_count": 15,
   "metadata": {
    "collapsed": false
   },
   "outputs": [
    {
     "name": "stdout",
     "output_type": "stream",
     "text": [
      "1831\n",
      "1831\n",
      "  rank                           title studio      gross theatres_life  \\\n",
      "1    1  Crouching Tiger, Hidden Dragon    SPC  128078872         2,027   \n",
      "2    2               Life Is Beautiful  Mira.   57563264         1,136   \n",
      "3    3                            Hero  Mira.   53710019         2,175   \n",
      "4    4       Instructions Not Included    LGF   44467206           978   \n",
      "5    5                 Pan's Labyrinth   PicH   37634615         1,143   \n",
      "\n",
      "    opening theaters_opening                 date  \n",
      "1    663205               16  2000-12-08 00:00:00  \n",
      "2    118920                6  1998-10-23 00:00:00  \n",
      "3  18004319            2,031  2004-08-27 00:00:00  \n",
      "4   7846426              348  2013-08-30 00:00:00  \n",
      "5    568641               17  2006-12-29 00:00:00  \n",
      "0    93\n",
      "1    59\n",
      "2    84\n",
      "3    55\n",
      "4    98\n",
      "Name: Metascore, dtype: object\n"
     ]
    }
   ],
   "source": [
    "print len(metascore_df)\n",
    "print len(mojo_df)\n",
    "print mojo_df.head()\n",
    "print metascore_df.head()"
   ]
  },
  {
   "cell_type": "markdown",
   "metadata": {},
   "source": [
    "I don't know why the index is starting again at 1 for the mojo df but I should reset it"
   ]
  },
  {
   "cell_type": "code",
   "execution_count": 16,
   "metadata": {
    "collapsed": false
   },
   "outputs": [
    {
     "name": "stdout",
     "output_type": "stream",
     "text": [
      "   index rank                           title studio      gross theatres_life  \\\n",
      "0      1    1  Crouching Tiger, Hidden Dragon    SPC  128078872         2,027   \n",
      "1      2    2               Life Is Beautiful  Mira.   57563264         1,136   \n",
      "2      3    3                            Hero  Mira.   53710019         2,175   \n",
      "3      4    4       Instructions Not Included    LGF   44467206           978   \n",
      "4      5    5                 Pan's Labyrinth   PicH   37634615         1,143   \n",
      "\n",
      "    opening theaters_opening                 date  \n",
      "0    663205               16  2000-12-08 00:00:00  \n",
      "1    118920                6  1998-10-23 00:00:00  \n",
      "2  18004319            2,031  2004-08-27 00:00:00  \n",
      "3   7846426              348  2013-08-30 00:00:00  \n",
      "4    568641               17  2006-12-29 00:00:00  \n"
     ]
    }
   ],
   "source": [
    "mojo_df.reset_index(inplace=True)\n",
    "print mojo_df.head()"
   ]
  },
  {
   "cell_type": "code",
   "execution_count": 17,
   "metadata": {
    "collapsed": false
   },
   "outputs": [],
   "source": [
    "df = pd.concat([mojo_df, metascore_df], axis=1)"
   ]
  },
  {
   "cell_type": "code",
   "execution_count": 18,
   "metadata": {
    "collapsed": false
   },
   "outputs": [
    {
     "name": "stdout",
     "output_type": "stream",
     "text": [
      "1831\n",
      "1679\n",
      "1012\n",
      "index                                            1\n",
      "rank                                             1\n",
      "title               Crouching Tiger, Hidden Dragon\n",
      "studio                                         SPC\n",
      "gross                                    128078872\n",
      "theatres_life                                2,027\n",
      "opening                                     663205\n",
      "theaters_opening                                16\n",
      "date                           2000-12-08 00:00:00\n",
      "Metascore                                       93\n",
      "Name: 0, dtype: object\n"
     ]
    }
   ],
   "source": [
    "# let's get rid of the non-metascores\n",
    "\n",
    "print len(df)\n",
    "df_clean_meta = df[pd.notnull(df['Metascore'])]\n",
    "print len(df_clean_meta)\n",
    "df_clean_meta = df_clean_meta[df['Metascore'] != 'N/A']\n",
    "print len(df_clean_meta)\n",
    "print df.ix[0]"
   ]
  },
  {
   "cell_type": "code",
   "execution_count": 22,
   "metadata": {
    "collapsed": false
   },
   "outputs": [
    {
     "name": "stdout",
     "output_type": "stream",
     "text": [
      "1012\n",
      "988\n"
     ]
    }
   ],
   "source": [
    "print len(df_clean_meta)\n",
    "df_clean = df_clean_meta[pd.notnull(df_clean_meta['gross'])]\n",
    "print len(df_clean)"
   ]
  },
  {
   "cell_type": "code",
   "execution_count": 24,
   "metadata": {
    "collapsed": false
   },
   "outputs": [
    {
     "name": "stderr",
     "output_type": "stream",
     "text": [
      "/Users/johnkeating/anaconda/lib/python2.7/site-packages/ipykernel/__main__.py:1: SettingWithCopyWarning: \n",
      "A value is trying to be set on a copy of a slice from a DataFrame.\n",
      "Try using .loc[row_indexer,col_indexer] = value instead\n",
      "\n",
      "See the the caveats in the documentation: http://pandas.pydata.org/pandas-docs/stable/indexing.html#indexing-view-versus-copy\n",
      "  if __name__ == '__main__':\n",
      "/Users/johnkeating/anaconda/lib/python2.7/site-packages/ipykernel/__main__.py:2: SettingWithCopyWarning: \n",
      "A value is trying to be set on a copy of a slice from a DataFrame.\n",
      "Try using .loc[row_indexer,col_indexer] = value instead\n",
      "\n",
      "See the the caveats in the documentation: http://pandas.pydata.org/pandas-docs/stable/indexing.html#indexing-view-versus-copy\n",
      "  from ipykernel import kernelapp as app\n"
     ]
    }
   ],
   "source": [
    "df_clean['Metascore'] = df_clean['Metascore'].astype(int)\n",
    "df_clean['gross'] = df_clean['gross'].astype(int)"
   ]
  },
  {
   "cell_type": "code",
   "execution_count": 26,
   "metadata": {
    "collapsed": false
   },
   "outputs": [
    {
     "data": {
      "text/plain": [
       "<seaborn.axisgrid.FacetGrid at 0x109dad110>"
      ]
     },
     "execution_count": 26,
     "metadata": {},
     "output_type": "execute_result"
    },
    {
     "data": {
      "image/png": "[encoded data removed]",
      "text/plain": [
       "<matplotlib.figure.Figure at 0x109d92110>"
      ]
     },
     "metadata": {},
     "output_type": "display_data"
    }
   ],
   "source": [
    "%matplotlib inline\n",
    "import matplotlib as mpl\n",
    "import matplotlib.pyplot as plt\n",
    "import seaborn as sns\n",
    "\n",
    "sns.lmplot(x=\"Metascore\", y=\"gross\", data=df_clean)"
   ]
  },
  {
   "cell_type": "code",
   "execution_count": 30,
   "metadata": {
    "collapsed": false
   },
   "outputs": [],
   "source": [
    "import statsmodels.api as sm\n",
    "from patsy import dmatrices\n",
    "from patsy import dmatrix\n",
    "\n",
    "y, X = dmatrices('gross ~ Metascore', data=df_clean, return_type='dataframe')"
   ]
  },
  {
   "cell_type": "code",
   "execution_count": 31,
   "metadata": {
    "collapsed": false
   },
   "outputs": [],
   "source": [
    "model = sm.OLS(y, X)\n",
    "results = model.fit()"
   ]
  },
  {
   "cell_type": "code",
   "execution_count": 32,
   "metadata": {
    "collapsed": false
   },
   "outputs": [
    {
     "data": {
      "text/html": [
       "<table class=\"simpletable\">\n",
       "<caption>OLS Regression Results</caption>\n",
       "<tr>\n",
       "  <th>Dep. Variable:</th>          <td>gross</td>      <th>  R-squared:         </th> <td>   0.018</td> \n",
       "</tr>\n",
       "<tr>\n",
       "  <th>Model:</th>                   <td>OLS</td>       <th>  Adj. R-squared:    </th> <td>   0.017</td> \n",
       "</tr>\n",
       "<tr>\n",
       "  <th>Method:</th>             <td>Least Squares</td>  <th>  F-statistic:       </th> <td>   18.53</td> \n",
       "</tr>\n",
       "<tr>\n",
       "  <th>Date:</th>             <td>Wed, 07 Oct 2015</td> <th>  Prob (F-statistic):</th> <td>1.84e-05</td> \n",
       "</tr>\n",
       "<tr>\n",
       "  <th>Time:</th>                 <td>15:13:42</td>     <th>  Log-Likelihood:    </th> <td> -16720.</td> \n",
       "</tr>\n",
       "<tr>\n",
       "  <th>No. Observations:</th>      <td>   988</td>      <th>  AIC:               </th> <td>3.344e+04</td>\n",
       "</tr>\n",
       "<tr>\n",
       "  <th>Df Residuals:</th>          <td>   986</td>      <th>  BIC:               </th> <td>3.345e+04</td>\n",
       "</tr>\n",
       "<tr>\n",
       "  <th>Df Model:</th>              <td>     1</td>      <th>                     </th>     <td> </td>    \n",
       "</tr>\n",
       "<tr>\n",
       "  <th>Covariance Type:</th>      <td>nonrobust</td>    <th>                     </th>     <td> </td>    \n",
       "</tr>\n",
       "</table>\n",
       "<table class=\"simpletable\">\n",
       "<tr>\n",
       "      <td></td>         <th>coef</th>     <th>std err</th>      <th>t</th>      <th>P>|t|</th> <th>[95.0% Conf. Int.]</th> \n",
       "</tr>\n",
       "<tr>\n",
       "  <th>Intercept</th> <td>-2.254e+06</td> <td> 8.22e+05</td> <td>   -2.742</td> <td> 0.006</td> <td>-3.87e+06 -6.41e+05</td>\n",
       "</tr>\n",
       "<tr>\n",
       "  <th>Metascore</th> <td> 5.255e+04</td> <td> 1.22e+04</td> <td>    4.304</td> <td> 0.000</td> <td> 2.86e+04  7.65e+04</td>\n",
       "</tr>\n",
       "</table>\n",
       "<table class=\"simpletable\">\n",
       "<tr>\n",
       "  <th>Omnibus:</th>       <td>2005.338</td> <th>  Durbin-Watson:     </th>  <td>   0.215</td>  \n",
       "</tr>\n",
       "<tr>\n",
       "  <th>Prob(Omnibus):</th>  <td> 0.000</td>  <th>  Jarque-Bera (JB):  </th> <td>4161394.290</td>\n",
       "</tr>\n",
       "<tr>\n",
       "  <th>Skew:</th>           <td>15.625</td>  <th>  Prob(JB):          </th>  <td>    0.00</td>  \n",
       "</tr>\n",
       "<tr>\n",
       "  <th>Kurtosis:</th>       <td>319.402</td> <th>  Cond. No.          </th>  <td>    321.</td>  \n",
       "</tr>\n",
       "</table>"
      ],
      "text/plain": [
       "<class 'statsmodels.iolib.summary.Summary'>\n",
       "\"\"\"\n",
       "                            OLS Regression Results                            \n",
       "==============================================================================\n",
       "Dep. Variable:                  gross   R-squared:                       0.018\n",
       "Model:                            OLS   Adj. R-squared:                  0.017\n",
       "Method:                 Least Squares   F-statistic:                     18.53\n",
       "Date:                Wed, 07 Oct 2015   Prob (F-statistic):           1.84e-05\n",
       "Time:                        15:13:42   Log-Likelihood:                -16720.\n",
       "No. Observations:                 988   AIC:                         3.344e+04\n",
       "Df Residuals:                     986   BIC:                         3.345e+04\n",
       "Df Model:                           1                                         \n",
       "Covariance Type:            nonrobust                                         \n",
       "==============================================================================\n",
       "                 coef    std err          t      P>|t|      [95.0% Conf. Int.]\n",
       "------------------------------------------------------------------------------\n",
       "Intercept  -2.254e+06   8.22e+05     -2.742      0.006     -3.87e+06 -6.41e+05\n",
       "Metascore   5.255e+04   1.22e+04      4.304      0.000      2.86e+04  7.65e+04\n",
       "==============================================================================\n",
       "Omnibus:                     2005.338   Durbin-Watson:                   0.215\n",
       "Prob(Omnibus):                  0.000   Jarque-Bera (JB):          4161394.290\n",
       "Skew:                          15.625   Prob(JB):                         0.00\n",
       "Kurtosis:                     319.402   Cond. No.                         321.\n",
       "==============================================================================\n",
       "\n",
       "Warnings:\n",
       "[1] Standard Errors assume that the covariance matrix of the errors is correctly specified.\n",
       "\"\"\""
      ]
     },
     "execution_count": 32,
     "metadata": {},
     "output_type": "execute_result"
    }
   ],
   "source": [
    "results.summary()"
   ]
  },
  {
   "cell_type": "code",
   "execution_count": null,
   "metadata": {
    "collapsed": true
   },
   "outputs": [],
   "source": []
  }
 ],
 "metadata": {
  "kernelspec": {
   "display_name": "Python 2",
   "language": "python",
   "name": "python2"
  },
  "language_info": {
   "codemirror_mode": {
    "name": "ipython",
    "version": 2
   },
   "file_extension": ".py",
   "mimetype": "text/x-python",
   "name": "python",
   "nbconvert_exporter": "python",
   "pygments_lexer": "ipython2",
   "version": "2.7.10"
  }
 },
 "nbformat": 4,
 "nbformat_minor": 0
}
