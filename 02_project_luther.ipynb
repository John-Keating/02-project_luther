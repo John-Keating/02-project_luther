{
 "cells": [
  {
   "cell_type": "code",
   "execution_count": 9,
   "metadata": {
    "collapsed": false
   },
   "outputs": [
    {
     "name": "stdout",
     "output_type": "stream",
     "text": [
      "Sun Oct 11 13:24:15 EDT 2015\r\n"
     ]
    }
   ],
   "source": [
    "!date"
   ]
  },
  {
   "cell_type": "code",
   "execution_count": 58,
   "metadata": {
    "collapsed": false
   },
   "outputs": [],
   "source": [
    "import luther\n",
    "import pandas as pd\n",
    "import string \n",
    "import numpy as np\n",
    "from patsy import dmatrices\n",
    "from patsy import dmatrix\n",
    "import statsmodels.api as sm\n",
    "import statsmodels.formula.api as smf"
   ]
  },
  {
   "cell_type": "code",
   "execution_count": 57,
   "metadata": {
    "collapsed": true
   },
   "outputs": [],
   "source": [
    "%matplotlib inline\n",
    "import matplotlib as mpl\n",
    "import matplotlib.pyplot as plt\n",
    "import seaborn as sns"
   ]
  },
  {
   "cell_type": "code",
   "execution_count": 2,
   "metadata": {
    "collapsed": true
   },
   "outputs": [],
   "source": [
    "url = 'http://www.boxofficemojo.com/genres/chart/?id=foreign.htm'"
   ]
  },
  {
   "cell_type": "code",
   "execution_count": 3,
   "metadata": {
    "collapsed": false
   },
   "outputs": [
    {
     "name": "stderr",
     "output_type": "stream",
     "text": [
      "/Users/johnkeating/anaconda/lib/python2.7/site-packages/bs4/__init__.py:166: UserWarning: No parser was explicitly specified, so I'm using the best available HTML parser for this system (\"lxml\"). This usually isn't a problem, but if you run this code on another system, or in a different virtual environment, it may use a different parser and behave differently.\n",
      "\n",
      "To get rid of this warning, change this:\n",
      "\n",
      " BeautifulSoup([your markup])\n",
      "\n",
      "to this:\n",
      "\n",
      " BeautifulSoup([your markup], \"lxml\")\n",
      "\n",
      "  markup_type=markup_type))\n"
     ]
    }
   ],
   "source": [
    "movie_df = luther.all_movie_tables(url)"
   ]
  },
  {
   "cell_type": "code",
   "execution_count": 4,
   "metadata": {
    "collapsed": false
   },
   "outputs": [
    {
     "data": {
      "text/html": [
       "<div>\n",
       "<table border=\"1\" class=\"dataframe\">\n",
       "  <thead>\n",
       "    <tr style=\"text-align: right;\">\n",
       "      <th></th>\n",
       "      <th>rank</th>\n",
       "      <th>title</th>\n",
       "      <th>studio</th>\n",
       "      <th>gross</th>\n",
       "      <th>theatres_life</th>\n",
       "      <th>opening</th>\n",
       "      <th>theaters_opening</th>\n",
       "      <th>date</th>\n",
       "    </tr>\n",
       "  </thead>\n",
       "  <tbody>\n",
       "    <tr>\n",
       "      <th>1</th>\n",
       "      <td>1</td>\n",
       "      <td>Crouching Tiger, Hidden Dragon(Taiwan)</td>\n",
       "      <td>SPC</td>\n",
       "      <td>$128,078,872</td>\n",
       "      <td>2,027</td>\n",
       "      <td>$663,205</td>\n",
       "      <td>16</td>\n",
       "      <td>12/8/00</td>\n",
       "    </tr>\n",
       "    <tr>\n",
       "      <th>2</th>\n",
       "      <td>2</td>\n",
       "      <td>Life Is Beautiful(Italy)</td>\n",
       "      <td>Mira.</td>\n",
       "      <td>$57,563,264</td>\n",
       "      <td>1,136</td>\n",
       "      <td>$118,920</td>\n",
       "      <td>6</td>\n",
       "      <td>10/23/98</td>\n",
       "    </tr>\n",
       "    <tr>\n",
       "      <th>3</th>\n",
       "      <td>3</td>\n",
       "      <td>Hero(China)</td>\n",
       "      <td>Mira.</td>\n",
       "      <td>$53,710,019</td>\n",
       "      <td>2,175</td>\n",
       "      <td>$18,004,319</td>\n",
       "      <td>2,031</td>\n",
       "      <td>8/27/04</td>\n",
       "    </tr>\n",
       "    <tr>\n",
       "      <th>4</th>\n",
       "      <td>4</td>\n",
       "      <td>Instructions Not Included</td>\n",
       "      <td>LGF</td>\n",
       "      <td>$44,467,206</td>\n",
       "      <td>978</td>\n",
       "      <td>$7,846,426</td>\n",
       "      <td>348</td>\n",
       "      <td>8/30/13</td>\n",
       "    </tr>\n",
       "    <tr>\n",
       "      <th>5</th>\n",
       "      <td>5</td>\n",
       "      <td>Pan's Labyrinth(Mexico)</td>\n",
       "      <td>PicH</td>\n",
       "      <td>$37,634,615</td>\n",
       "      <td>1,143</td>\n",
       "      <td>$568,641</td>\n",
       "      <td>17</td>\n",
       "      <td>12/29/06</td>\n",
       "    </tr>\n",
       "  </tbody>\n",
       "</table>\n",
       "</div>"
      ],
      "text/plain": [
       "  rank                                   title studio         gross  \\\n",
       "1    1  Crouching Tiger, Hidden Dragon(Taiwan)    SPC  $128,078,872   \n",
       "2    2                Life Is Beautiful(Italy)  Mira.   $57,563,264   \n",
       "3    3                             Hero(China)  Mira.   $53,710,019   \n",
       "4    4               Instructions Not Included    LGF   $44,467,206   \n",
       "5    5                 Pan's Labyrinth(Mexico)   PicH   $37,634,615   \n",
       "\n",
       "  theatres_life      opening theaters_opening      date  \n",
       "1         2,027     $663,205               16   12/8/00  \n",
       "2         1,136     $118,920                6  10/23/98  \n",
       "3         2,175  $18,004,319            2,031   8/27/04  \n",
       "4           978   $7,846,426              348   8/30/13  \n",
       "5         1,143     $568,641               17  12/29/06  "
      ]
     },
     "execution_count": 4,
     "metadata": {},
     "output_type": "execute_result"
    }
   ],
   "source": [
    "movie_df.head()"
   ]
  },
  {
   "cell_type": "code",
   "execution_count": 5,
   "metadata": {
    "collapsed": false
   },
   "outputs": [
    {
     "data": {
      "text/html": [
       "<div>\n",
       "<table border=\"1\" class=\"dataframe\">\n",
       "  <thead>\n",
       "    <tr style=\"text-align: right;\">\n",
       "      <th></th>\n",
       "      <th>rank</th>\n",
       "      <th>title</th>\n",
       "      <th>studio</th>\n",
       "      <th>gross</th>\n",
       "      <th>theatres_life</th>\n",
       "      <th>opening</th>\n",
       "      <th>theaters_opening</th>\n",
       "      <th>date</th>\n",
       "    </tr>\n",
       "  </thead>\n",
       "  <tbody>\n",
       "    <tr>\n",
       "      <th>1919</th>\n",
       "      <td>-</td>\n",
       "      <td>Once Upon a Time Veronica (Era uma vez eu, Ver...</td>\n",
       "      <td>BWP</td>\n",
       "      <td>n/a</td>\n",
       "      <td>-</td>\n",
       "      <td>n/a</td>\n",
       "      <td>-</td>\n",
       "      <td>11/28/14</td>\n",
       "    </tr>\n",
       "    <tr>\n",
       "      <th>1920</th>\n",
       "      <td>-</td>\n",
       "      <td>Killers (2015)</td>\n",
       "      <td>WGUSA</td>\n",
       "      <td>n/a</td>\n",
       "      <td>-</td>\n",
       "      <td>n/a</td>\n",
       "      <td>-</td>\n",
       "      <td>1/23/15</td>\n",
       "    </tr>\n",
       "    <tr>\n",
       "      <th>1921</th>\n",
       "      <td>-</td>\n",
       "      <td>Police Story: Lockdown</td>\n",
       "      <td>WGUSA</td>\n",
       "      <td>n/a</td>\n",
       "      <td>-</td>\n",
       "      <td>n/a</td>\n",
       "      <td>-</td>\n",
       "      <td>6/5/15</td>\n",
       "    </tr>\n",
       "    <tr>\n",
       "      <th>1922</th>\n",
       "      <td>-</td>\n",
       "      <td>A Lonely Hero</td>\n",
       "      <td>Emr.</td>\n",
       "      <td>n/a</td>\n",
       "      <td>-</td>\n",
       "      <td>n/a</td>\n",
       "      <td>-</td>\n",
       "      <td>5/8/15</td>\n",
       "    </tr>\n",
       "    <tr>\n",
       "      <th>1923</th>\n",
       "      <td>-</td>\n",
       "      <td>Number One Fan</td>\n",
       "      <td>Distrib.</td>\n",
       "      <td>n/a</td>\n",
       "      <td>-</td>\n",
       "      <td>n/a</td>\n",
       "      <td>-</td>\n",
       "      <td>9/4/15</td>\n",
       "    </tr>\n",
       "  </tbody>\n",
       "</table>\n",
       "</div>"
      ],
      "text/plain": [
       "     rank                                              title    studio gross  \\\n",
       "1919    -  Once Upon a Time Veronica (Era uma vez eu, Ver...       BWP   n/a   \n",
       "1920    -                                     Killers (2015)     WGUSA   n/a   \n",
       "1921    -                             Police Story: Lockdown     WGUSA   n/a   \n",
       "1922    -                                      A Lonely Hero      Emr.   n/a   \n",
       "1923    -                                     Number One Fan  Distrib.   n/a   \n",
       "\n",
       "     theatres_life opening theaters_opening      date  \n",
       "1919             -     n/a                -  11/28/14  \n",
       "1920             -     n/a                -   1/23/15  \n",
       "1921             -     n/a                -    6/5/15  \n",
       "1922             -     n/a                -    5/8/15  \n",
       "1923             -     n/a                -    9/4/15  "
      ]
     },
     "execution_count": 5,
     "metadata": {},
     "output_type": "execute_result"
    }
   ],
   "source": [
    "movie_df.tail()"
   ]
  },
  {
   "cell_type": "code",
   "execution_count": 6,
   "metadata": {
    "collapsed": false
   },
   "outputs": [
    {
     "data": {
      "text/plain": [
       "1833"
      ]
     },
     "execution_count": 6,
     "metadata": {},
     "output_type": "execute_result"
    }
   ],
   "source": [
    "len(movie_df)"
   ]
  },
  {
   "cell_type": "code",
   "execution_count": 8,
   "metadata": {
    "collapsed": false
   },
   "outputs": [
    {
     "data": {
      "text/plain": [
       "level_0                                                  0\n",
       "index                                                    1\n",
       "rank                                                     1\n",
       "title               Crouching Tiger, Hidden Dragon(Taiwan)\n",
       "studio                                                 SPC\n",
       "gross                                         $128,078,872\n",
       "theatres_life                                        2,027\n",
       "opening                                           $663,205\n",
       "theaters_opening                                        16\n",
       "date                                               12/8/00\n",
       "Name: 0, dtype: object"
      ]
     },
     "execution_count": 8,
     "metadata": {},
     "output_type": "execute_result"
    }
   ],
   "source": [
    "#reset the index\n",
    "movie_df = movie_df.reset_index()\n",
    "movie_df.iloc[0]"
   ]
  },
  {
   "cell_type": "code",
   "execution_count": 10,
   "metadata": {
    "collapsed": true
   },
   "outputs": [],
   "source": [
    "# remove country from the titles\n",
    "\n",
    "titles = luther.get_foreign_movie_titles(movie_df)"
   ]
  },
  {
   "cell_type": "code",
   "execution_count": 12,
   "metadata": {
    "collapsed": false
   },
   "outputs": [],
   "source": [
    "movie_df['title'] = titles"
   ]
  },
  {
   "cell_type": "code",
   "execution_count": 13,
   "metadata": {
    "collapsed": false
   },
   "outputs": [
    {
     "data": {
      "text/html": [
       "<div>\n",
       "<table border=\"1\" class=\"dataframe\">\n",
       "  <thead>\n",
       "    <tr style=\"text-align: right;\">\n",
       "      <th></th>\n",
       "      <th>level_0</th>\n",
       "      <th>index</th>\n",
       "      <th>rank</th>\n",
       "      <th>title</th>\n",
       "      <th>studio</th>\n",
       "      <th>gross</th>\n",
       "      <th>theatres_life</th>\n",
       "      <th>opening</th>\n",
       "      <th>theaters_opening</th>\n",
       "      <th>date</th>\n",
       "    </tr>\n",
       "  </thead>\n",
       "  <tbody>\n",
       "    <tr>\n",
       "      <th>0</th>\n",
       "      <td>0</td>\n",
       "      <td>1</td>\n",
       "      <td>1</td>\n",
       "      <td>Crouching Tiger, Hidden Dragon</td>\n",
       "      <td>SPC</td>\n",
       "      <td>$128,078,872</td>\n",
       "      <td>2,027</td>\n",
       "      <td>$663,205</td>\n",
       "      <td>16</td>\n",
       "      <td>12/8/00</td>\n",
       "    </tr>\n",
       "    <tr>\n",
       "      <th>1</th>\n",
       "      <td>1</td>\n",
       "      <td>2</td>\n",
       "      <td>2</td>\n",
       "      <td>Life Is Beautiful</td>\n",
       "      <td>Mira.</td>\n",
       "      <td>$57,563,264</td>\n",
       "      <td>1,136</td>\n",
       "      <td>$118,920</td>\n",
       "      <td>6</td>\n",
       "      <td>10/23/98</td>\n",
       "    </tr>\n",
       "    <tr>\n",
       "      <th>2</th>\n",
       "      <td>2</td>\n",
       "      <td>3</td>\n",
       "      <td>3</td>\n",
       "      <td>Hero</td>\n",
       "      <td>Mira.</td>\n",
       "      <td>$53,710,019</td>\n",
       "      <td>2,175</td>\n",
       "      <td>$18,004,319</td>\n",
       "      <td>2,031</td>\n",
       "      <td>8/27/04</td>\n",
       "    </tr>\n",
       "    <tr>\n",
       "      <th>3</th>\n",
       "      <td>3</td>\n",
       "      <td>4</td>\n",
       "      <td>4</td>\n",
       "      <td>Instructions Not Included</td>\n",
       "      <td>LGF</td>\n",
       "      <td>$44,467,206</td>\n",
       "      <td>978</td>\n",
       "      <td>$7,846,426</td>\n",
       "      <td>348</td>\n",
       "      <td>8/30/13</td>\n",
       "    </tr>\n",
       "    <tr>\n",
       "      <th>4</th>\n",
       "      <td>4</td>\n",
       "      <td>5</td>\n",
       "      <td>5</td>\n",
       "      <td>Pan's Labyrinth</td>\n",
       "      <td>PicH</td>\n",
       "      <td>$37,634,615</td>\n",
       "      <td>1,143</td>\n",
       "      <td>$568,641</td>\n",
       "      <td>17</td>\n",
       "      <td>12/29/06</td>\n",
       "    </tr>\n",
       "  </tbody>\n",
       "</table>\n",
       "</div>"
      ],
      "text/plain": [
       "   level_0  index rank                           title studio         gross  \\\n",
       "0        0      1    1  Crouching Tiger, Hidden Dragon    SPC  $128,078,872   \n",
       "1        1      2    2               Life Is Beautiful  Mira.   $57,563,264   \n",
       "2        2      3    3                            Hero  Mira.   $53,710,019   \n",
       "3        3      4    4       Instructions Not Included    LGF   $44,467,206   \n",
       "4        4      5    5                 Pan's Labyrinth   PicH   $37,634,615   \n",
       "\n",
       "  theatres_life      opening theaters_opening      date  \n",
       "0         2,027     $663,205               16   12/8/00  \n",
       "1         1,136     $118,920                6  10/23/98  \n",
       "2         2,175  $18,004,319            2,031   8/27/04  \n",
       "3           978   $7,846,426              348   8/30/13  \n",
       "4         1,143     $568,641               17  12/29/06  "
      ]
     },
     "execution_count": 13,
     "metadata": {},
     "output_type": "execute_result"
    }
   ],
   "source": [
    "movie_df.head()"
   ]
  },
  {
   "cell_type": "code",
   "execution_count": 14,
   "metadata": {
    "collapsed": true
   },
   "outputs": [],
   "source": [
    "imdb_api_list = luther.imdb_api_list(titles)"
   ]
  },
  {
   "cell_type": "code",
   "execution_count": 22,
   "metadata": {
    "collapsed": false
   },
   "outputs": [],
   "source": [
    "reload(luther)\n",
    "imdb_df = luther.get_imdb_info(imdb_api_list)"
   ]
  },
  {
   "cell_type": "code",
   "execution_count": 27,
   "metadata": {
    "collapsed": false
   },
   "outputs": [
    {
     "name": "stdout",
     "output_type": "stream",
     "text": [
      "                                              Actors  \\\n",
      "0  Yun-Fat Chow, Michelle Yeoh, Ziyi Zhang, Chen ...   \n",
      "1  Roberto Benigni, Nicoletta Braschi, Giorgio Ca...   \n",
      "2  Jet Li, Tony Chiu Wai Leung, Maggie Cheung, Zi...   \n",
      "3  Andrés Vázquez, Hugo Stiglitz, Eugenio Derbez,...   \n",
      "4  Ivana Baquero, Sergi López, Maribel Verdú, Dou...   \n",
      "\n",
      "                                              Awards  \\\n",
      "0  Won 4 Oscars. Another 111 wins & 107 nominations.   \n",
      "1    Won 3 Oscars. Another 60 wins & 42 nominations.   \n",
      "2  Nominated for 1 Oscar. Another 31 wins & 29 no...   \n",
      "3                            5 wins & 2 nominations.   \n",
      "4   Won 3 Oscars. Another 103 wins & 72 nominations.   \n",
      "\n",
      "                         Country            Director Error  \\\n",
      "0  Taiwan, Hong Kong, USA, China             Ang Lee   NaN   \n",
      "1                          Italy     Roberto Benigni   NaN   \n",
      "2               China, Hong Kong         Yimou Zhang   NaN   \n",
      "3                         Mexico      Eugenio Derbez   NaN   \n",
      "4             Spain, Mexico, USA  Guillermo del Toro   NaN   \n",
      "\n",
      "                        Genre                  Language Metascore  \\\n",
      "0      Action, Drama, Romance                  Mandarin        93   \n",
      "1      Comedy, Drama, Romance  Italian, German, English        59   \n",
      "2  Action, Adventure, History                  Mandarin        84   \n",
      "3               Comedy, Drama          Spanish, English        55   \n",
      "4         Drama, Fantasy, War                   Spanish        98   \n",
      "\n",
      "                                                Plot  \\\n",
      "0  Two warriors in pursuit of a stolen sword and ...   \n",
      "1  When an open-minded Jewish librarian and his s...   \n",
      "2  A defense officer, Nameless, was summoned by t...   \n",
      "3  A man who has made a new life for himself and ...   \n",
      "4  In the falangist Spain of 1944, the bookish yo...   \n",
      "\n",
      "                                              Poster    ...        Released  \\\n",
      "0  http://ia.media-imdb.com/images/M/MV5BMTY5MjM4...    ...     12 Jan 2001   \n",
      "1  http://ia.media-imdb.com/images/M/MV5BMTQwMTM2...    ...     12 Feb 1999   \n",
      "2  http://ia.media-imdb.com/images/M/MV5BMTk5NjQy...    ...     27 Aug 2004   \n",
      "3  http://ia.media-imdb.com/images/M/MV5BMTUyNjI3...    ...     06 Sep 2013   \n",
      "4  http://ia.media-imdb.com/images/M/MV5BMTU3ODg2...    ...     19 Jan 2007   \n",
      "\n",
      "  Response  Runtime                           Title   Type  \\\n",
      "0     True  120 min  Crouching Tiger, Hidden Dragon  movie   \n",
      "1     True  116 min               Life Is Beautiful  movie   \n",
      "2     True   99 min                            Hero  movie   \n",
      "3     True  122 min       Instructions Not Included  movie   \n",
      "4     True  118 min                 Pan's Labyrinth  movie   \n",
      "\n",
      "                                              Writer  Year     imdbID  \\\n",
      "0  Du Lu Wang (book), Hui-Ling Wang (screenplay),...  2000  tt0190332   \n",
      "1   Vincenzo Cerami (story), Roberto Benigni (story)  1997  tt0118799   \n",
      "2                     Feng Li, Bin Wang, Yimou Zhang  2002  tt0299977   \n",
      "3  Guillermo Ríos, Leticia López Margalli, Eugeni...  2013  tt2378281   \n",
      "4                                 Guillermo del Toro  2006  tt0457430   \n",
      "\n",
      "  imdbRating imdbVotes  \n",
      "0        7.9   205,400  \n",
      "1        8.6   370,459  \n",
      "2        7.9   142,643  \n",
      "3        7.6    19,818  \n",
      "4        8.2   424,864  \n",
      "\n",
      "[5 rows x 21 columns]\n",
      "                                                 Actors  \\\n",
      "1828  Hermila Guedes, Maeve Jinkings, João Miguel, M...   \n",
      "1829  Ashton Kutcher, Katherine Heigl, Tom Selleck, ...   \n",
      "1830            Jackie Chan, Ye Liu, Tian Jing, Tao Yin   \n",
      "1831                                                NaN   \n",
      "1832  Sandrine Kiberlain, Laurent Lafitte, Pascal De...   \n",
      "\n",
      "                        Awards           Country        Director  \\\n",
      "1828  10 wins & 3 nominations.    Brazil, France   Marcelo Gomes   \n",
      "1829   2 wins & 3 nominations.               USA  Robert Luketic   \n",
      "1830                       N/A  China, Hong Kong      Sheng Ding   \n",
      "1831                       NaN               NaN             NaN   \n",
      "1832    1 win & 6 nominations.            France    Jeanne Herry   \n",
      "\n",
      "                 Error                    Genre    Language Metascore  \\\n",
      "1828               NaN                    Drama  Portuguese        73   \n",
      "1829               NaN  Action, Comedy, Romance     English        21   \n",
      "1830               NaN     Action, Crime, Drama    Mandarin        44   \n",
      "1831  Movie not found!                      NaN         NaN       NaN   \n",
      "1832               NaN  Comedy, Drama, Thriller      French       N/A   \n",
      "\n",
      "                                                   Plot  \\\n",
      "1828  A woman tries to make a life for herself in a ...   \n",
      "1829  A vacationing woman meets her ideal man, leadi...   \n",
      "1830  A man looking for the release of a long-time p...   \n",
      "1831                                                NaN   \n",
      "1832  Muriel Bayen, a divorced beautician and mother...   \n",
      "\n",
      "                                                 Poster    ...     \\\n",
      "1828  http://ia.media-imdb.com/images/M/MV5BMjA2MjYw...    ...      \n",
      "1829  http://ia.media-imdb.com/images/M/MV5BMTU0NDIw...    ...      \n",
      "1830  http://ia.media-imdb.com/images/M/MV5BMTUwODUy...    ...      \n",
      "1831                                                NaN    ...      \n",
      "1832  http://ia.media-imdb.com/images/M/MV5BMTg4NTU4...    ...      \n",
      "\n",
      "         Released Response  Runtime                      Title   Type  \\\n",
      "1828  16 Nov 2012     True   91 min  Once Upon a Time Veronica  movie   \n",
      "1829  04 Jun 2010     True  100 min                    Killers  movie   \n",
      "1830  05 Jun 2015     True  110 min     Police Story: Lockdown  movie   \n",
      "1831          NaN    False      NaN                        NaN    NaN   \n",
      "1832  24 Sep 2014     True  104 min             Number One Fan  movie   \n",
      "\n",
      "                                                 Writer  Year     imdbID  \\\n",
      "1828                         Marcelo Gomes (screenplay)  2012  tt2379422   \n",
      "1829  Bob DeRosa (screenplay), Ted Griffin (screenpl...  2010  tt1103153   \n",
      "1830                                         Sheng Ding  2013  tt2599716   \n",
      "1831                                                NaN   NaN        NaN   \n",
      "1832  Jeanne Herry (screenplay), Gaëlle Macé (collab...  2014  tt3433358   \n",
      "\n",
      "     imdbRating imdbVotes  \n",
      "1828        6.1       372  \n",
      "1829        5.4    68,551  \n",
      "1830        6.1     4,475  \n",
      "1831        NaN       NaN  \n",
      "1832        6.4       652  \n",
      "\n",
      "[5 rows x 21 columns]\n"
     ]
    }
   ],
   "source": [
    "print imdb_df.head()\n",
    "print imdb_df.tail()"
   ]
  },
  {
   "cell_type": "code",
   "execution_count": 30,
   "metadata": {
    "collapsed": false
   },
   "outputs": [],
   "source": [
    "movie_gross = movie_df[['title', 'gross']]\n",
    "metascore_awards = imdb_df[['Title', 'Error', 'Awards', 'Metascore']]\n",
    "df_gross_predictors = pd.concat([movie_gross, metascore_awards], axis=1)"
   ]
  },
  {
   "cell_type": "code",
   "execution_count": 31,
   "metadata": {
    "collapsed": false
   },
   "outputs": [
    {
     "data": {
      "text/html": [
       "<div>\n",
       "<table border=\"1\" class=\"dataframe\">\n",
       "  <thead>\n",
       "    <tr style=\"text-align: right;\">\n",
       "      <th></th>\n",
       "      <th>title</th>\n",
       "      <th>gross</th>\n",
       "      <th>Title</th>\n",
       "      <th>Error</th>\n",
       "      <th>Awards</th>\n",
       "      <th>Metascore</th>\n",
       "    </tr>\n",
       "  </thead>\n",
       "  <tbody>\n",
       "    <tr>\n",
       "      <th>0</th>\n",
       "      <td>Crouching Tiger, Hidden Dragon</td>\n",
       "      <td>$128,078,872</td>\n",
       "      <td>Crouching Tiger, Hidden Dragon</td>\n",
       "      <td>NaN</td>\n",
       "      <td>Won 4 Oscars. Another 111 wins &amp; 107 nominations.</td>\n",
       "      <td>93</td>\n",
       "    </tr>\n",
       "    <tr>\n",
       "      <th>1</th>\n",
       "      <td>Life Is Beautiful</td>\n",
       "      <td>$57,563,264</td>\n",
       "      <td>Life Is Beautiful</td>\n",
       "      <td>NaN</td>\n",
       "      <td>Won 3 Oscars. Another 60 wins &amp; 42 nominations.</td>\n",
       "      <td>59</td>\n",
       "    </tr>\n",
       "    <tr>\n",
       "      <th>2</th>\n",
       "      <td>Hero</td>\n",
       "      <td>$53,710,019</td>\n",
       "      <td>Hero</td>\n",
       "      <td>NaN</td>\n",
       "      <td>Nominated for 1 Oscar. Another 31 wins &amp; 29 no...</td>\n",
       "      <td>84</td>\n",
       "    </tr>\n",
       "    <tr>\n",
       "      <th>3</th>\n",
       "      <td>Instructions Not Included</td>\n",
       "      <td>$44,467,206</td>\n",
       "      <td>Instructions Not Included</td>\n",
       "      <td>NaN</td>\n",
       "      <td>5 wins &amp; 2 nominations.</td>\n",
       "      <td>55</td>\n",
       "    </tr>\n",
       "    <tr>\n",
       "      <th>4</th>\n",
       "      <td>Pan's Labyrinth</td>\n",
       "      <td>$37,634,615</td>\n",
       "      <td>Pan's Labyrinth</td>\n",
       "      <td>NaN</td>\n",
       "      <td>Won 3 Oscars. Another 103 wins &amp; 72 nominations.</td>\n",
       "      <td>98</td>\n",
       "    </tr>\n",
       "  </tbody>\n",
       "</table>\n",
       "</div>"
      ],
      "text/plain": [
       "                            title         gross  \\\n",
       "0  Crouching Tiger, Hidden Dragon  $128,078,872   \n",
       "1               Life Is Beautiful   $57,563,264   \n",
       "2                            Hero   $53,710,019   \n",
       "3       Instructions Not Included   $44,467,206   \n",
       "4                 Pan's Labyrinth   $37,634,615   \n",
       "\n",
       "                            Title Error  \\\n",
       "0  Crouching Tiger, Hidden Dragon   NaN   \n",
       "1               Life Is Beautiful   NaN   \n",
       "2                            Hero   NaN   \n",
       "3       Instructions Not Included   NaN   \n",
       "4                 Pan's Labyrinth   NaN   \n",
       "\n",
       "                                              Awards Metascore  \n",
       "0  Won 4 Oscars. Another 111 wins & 107 nominations.        93  \n",
       "1    Won 3 Oscars. Another 60 wins & 42 nominations.        59  \n",
       "2  Nominated for 1 Oscar. Another 31 wins & 29 no...        84  \n",
       "3                            5 wins & 2 nominations.        55  \n",
       "4   Won 3 Oscars. Another 103 wins & 72 nominations.        98  "
      ]
     },
     "execution_count": 31,
     "metadata": {},
     "output_type": "execute_result"
    }
   ],
   "source": [
    "df_gross_predictors.head()"
   ]
  },
  {
   "cell_type": "code",
   "execution_count": 32,
   "metadata": {
    "collapsed": false
   },
   "outputs": [
    {
     "data": {
      "text/html": [
       "<div>\n",
       "<table border=\"1\" class=\"dataframe\">\n",
       "  <thead>\n",
       "    <tr style=\"text-align: right;\">\n",
       "      <th></th>\n",
       "      <th>title</th>\n",
       "      <th>gross</th>\n",
       "      <th>Title</th>\n",
       "      <th>Error</th>\n",
       "      <th>Awards</th>\n",
       "      <th>Metascore</th>\n",
       "    </tr>\n",
       "  </thead>\n",
       "  <tbody>\n",
       "    <tr>\n",
       "      <th>1828</th>\n",
       "      <td>Once Upon a Time Veronica</td>\n",
       "      <td>n/a</td>\n",
       "      <td>Once Upon a Time Veronica</td>\n",
       "      <td>NaN</td>\n",
       "      <td>10 wins &amp; 3 nominations.</td>\n",
       "      <td>73</td>\n",
       "    </tr>\n",
       "    <tr>\n",
       "      <th>1829</th>\n",
       "      <td>Killers</td>\n",
       "      <td>n/a</td>\n",
       "      <td>Killers</td>\n",
       "      <td>NaN</td>\n",
       "      <td>2 wins &amp; 3 nominations.</td>\n",
       "      <td>21</td>\n",
       "    </tr>\n",
       "    <tr>\n",
       "      <th>1830</th>\n",
       "      <td>Police Story: Lockdown</td>\n",
       "      <td>n/a</td>\n",
       "      <td>Police Story: Lockdown</td>\n",
       "      <td>NaN</td>\n",
       "      <td>N/A</td>\n",
       "      <td>44</td>\n",
       "    </tr>\n",
       "    <tr>\n",
       "      <th>1831</th>\n",
       "      <td>A Lonely Hero</td>\n",
       "      <td>n/a</td>\n",
       "      <td>NaN</td>\n",
       "      <td>Movie not found!</td>\n",
       "      <td>NaN</td>\n",
       "      <td>NaN</td>\n",
       "    </tr>\n",
       "    <tr>\n",
       "      <th>1832</th>\n",
       "      <td>Number One Fan</td>\n",
       "      <td>n/a</td>\n",
       "      <td>Number One Fan</td>\n",
       "      <td>NaN</td>\n",
       "      <td>1 win &amp; 6 nominations.</td>\n",
       "      <td>N/A</td>\n",
       "    </tr>\n",
       "  </tbody>\n",
       "</table>\n",
       "</div>"
      ],
      "text/plain": [
       "                           title gross                      Title  \\\n",
       "1828  Once Upon a Time Veronica    n/a  Once Upon a Time Veronica   \n",
       "1829                    Killers    n/a                    Killers   \n",
       "1830      Police Story: Lockdown   n/a     Police Story: Lockdown   \n",
       "1831               A Lonely Hero   n/a                        NaN   \n",
       "1832              Number One Fan   n/a             Number One Fan   \n",
       "\n",
       "                 Error                    Awards Metascore  \n",
       "1828               NaN  10 wins & 3 nominations.        73  \n",
       "1829               NaN   2 wins & 3 nominations.        21  \n",
       "1830               NaN                       N/A        44  \n",
       "1831  Movie not found!                       NaN       NaN  \n",
       "1832               NaN    1 win & 6 nominations.       N/A  "
      ]
     },
     "execution_count": 32,
     "metadata": {},
     "output_type": "execute_result"
    }
   ],
   "source": [
    "df_gross_predictors.tail()"
   ]
  },
  {
   "cell_type": "code",
   "execution_count": 36,
   "metadata": {
    "collapsed": false
   },
   "outputs": [],
   "source": [
    "# get award nominations\n",
    "df_gross_predictors['award_numbers'] = df_gross_predictors[\n",
    "    'Awards'].apply(lambda x: str(x).translate(None, string.letters))\n",
    "\n",
    "df_gross_predictors['award_numbers'] = df_gross_predictors[\n",
    "    'award_numbers'].apply(lambda x: str(x).translate(None, string.punctuation))\n",
    "\n",
    "df_gross_predictors['award_numbers'] = df_gross_predictors[\n",
    "    'award_numbers'].apply(lambda x: x.split())\n",
    "\n",
    "df_gross_predictors['nominations'] = df_gross_predictors[\n",
    "    'award_numbers'].apply(lambda x: x[-1] if len(x) != 0 else 0)"
   ]
  },
  {
   "cell_type": "code",
   "execution_count": 37,
   "metadata": {
    "collapsed": true
   },
   "outputs": [],
   "source": [
    "# drop everything with no imdb information \n",
    "df_gross_predictors = df_gross_predictors[df_gross_predictors['Error'] != 'Movie not found!']"
   ]
  },
  {
   "cell_type": "code",
   "execution_count": 38,
   "metadata": {
    "collapsed": false
   },
   "outputs": [
    {
     "data": {
      "text/plain": [
       "1681"
      ]
     },
     "execution_count": 38,
     "metadata": {},
     "output_type": "execute_result"
    }
   ],
   "source": [
    "len(df_gross_predictors)"
   ]
  },
  {
   "cell_type": "code",
   "execution_count": 47,
   "metadata": {
    "collapsed": false
   },
   "outputs": [
    {
     "name": "stderr",
     "output_type": "stream",
     "text": [
      "/Users/johnkeating/anaconda/lib/python2.7/site-packages/ipykernel/__main__.py:5: SettingWithCopyWarning: \n",
      "A value is trying to be set on a copy of a slice from a DataFrame\n",
      "\n",
      "See the the caveats in the documentation: http://pandas.pydata.org/pandas-docs/stable/indexing.html#indexing-view-versus-copy\n",
      "/Users/johnkeating/anaconda/lib/python2.7/site-packages/ipykernel/__main__.py:6: SettingWithCopyWarning: \n",
      "A value is trying to be set on a copy of a slice from a DataFrame\n",
      "\n",
      "See the the caveats in the documentation: http://pandas.pydata.org/pandas-docs/stable/indexing.html#indexing-view-versus-copy\n"
     ]
    }
   ],
   "source": [
    "# convert string n/as to Nans and convert strings to integers\n",
    "# gross\n",
    "df_gross_predictors['gross'] = df_gross_predictors[\n",
    "    'gross'].apply(lambda x: str(x).translate(None, string.punctuation))\n",
    "df_gross_predictors['gross'][df_gross_predictors.gross == 'na'] = np.nan\n",
    "df_gross_predictors['gross'][df_gross_predictors.gross == 'nan'] = np.nan\n",
    "df_gross_predictors = df_gross_predictors[pd.notnull(df_gross_predictors['gross'])]\n",
    "df_gross_predictors['gross'] = df_gross_predictors['gross'].astype(int)\n",
    "\n",
    "# awards\n",
    "df_gross_predictors['nominations'] = df_gross_predictors['nominations'].astype(int)\n",
    "\n",
    "# metascore\n",
    "df_gross_predictors = df_gross_predictors[pd.notnull(df_gross_predictors['Metascore'])]\n",
    "df_gross_predictors = df_gross_predictors[df_gross_predictors['Metascore'] != 'N/A']\n",
    "df_gross_predictors['Metascore'] = df_gross_predictors['Metascore'].astype(int)"
   ]
  },
  {
   "cell_type": "code",
   "execution_count": 48,
   "metadata": {
    "collapsed": false
   },
   "outputs": [
    {
     "data": {
      "text/html": [
       "<div>\n",
       "<table border=\"1\" class=\"dataframe\">\n",
       "  <thead>\n",
       "    <tr style=\"text-align: right;\">\n",
       "      <th></th>\n",
       "      <th>title</th>\n",
       "      <th>gross</th>\n",
       "      <th>Title</th>\n",
       "      <th>Error</th>\n",
       "      <th>Awards</th>\n",
       "      <th>Metascore</th>\n",
       "      <th>award_numbers</th>\n",
       "      <th>nominations</th>\n",
       "    </tr>\n",
       "  </thead>\n",
       "  <tbody>\n",
       "    <tr>\n",
       "      <th>0</th>\n",
       "      <td>Crouching Tiger, Hidden Dragon</td>\n",
       "      <td>128078872</td>\n",
       "      <td>Crouching Tiger, Hidden Dragon</td>\n",
       "      <td>NaN</td>\n",
       "      <td>Won 4 Oscars. Another 111 wins &amp; 107 nominations.</td>\n",
       "      <td>93</td>\n",
       "      <td>[4, 111, 107]</td>\n",
       "      <td>107</td>\n",
       "    </tr>\n",
       "    <tr>\n",
       "      <th>1</th>\n",
       "      <td>Life Is Beautiful</td>\n",
       "      <td>57563264</td>\n",
       "      <td>Life Is Beautiful</td>\n",
       "      <td>NaN</td>\n",
       "      <td>Won 3 Oscars. Another 60 wins &amp; 42 nominations.</td>\n",
       "      <td>59</td>\n",
       "      <td>[3, 60, 42]</td>\n",
       "      <td>42</td>\n",
       "    </tr>\n",
       "    <tr>\n",
       "      <th>2</th>\n",
       "      <td>Hero</td>\n",
       "      <td>53710019</td>\n",
       "      <td>Hero</td>\n",
       "      <td>NaN</td>\n",
       "      <td>Nominated for 1 Oscar. Another 31 wins &amp; 29 no...</td>\n",
       "      <td>84</td>\n",
       "      <td>[1, 31, 29]</td>\n",
       "      <td>29</td>\n",
       "    </tr>\n",
       "    <tr>\n",
       "      <th>3</th>\n",
       "      <td>Instructions Not Included</td>\n",
       "      <td>44467206</td>\n",
       "      <td>Instructions Not Included</td>\n",
       "      <td>NaN</td>\n",
       "      <td>5 wins &amp; 2 nominations.</td>\n",
       "      <td>55</td>\n",
       "      <td>[5, 2]</td>\n",
       "      <td>2</td>\n",
       "    </tr>\n",
       "    <tr>\n",
       "      <th>4</th>\n",
       "      <td>Pan's Labyrinth</td>\n",
       "      <td>37634615</td>\n",
       "      <td>Pan's Labyrinth</td>\n",
       "      <td>NaN</td>\n",
       "      <td>Won 3 Oscars. Another 103 wins &amp; 72 nominations.</td>\n",
       "      <td>98</td>\n",
       "      <td>[3, 103, 72]</td>\n",
       "      <td>72</td>\n",
       "    </tr>\n",
       "  </tbody>\n",
       "</table>\n",
       "</div>"
      ],
      "text/plain": [
       "                            title      gross                           Title  \\\n",
       "0  Crouching Tiger, Hidden Dragon  128078872  Crouching Tiger, Hidden Dragon   \n",
       "1               Life Is Beautiful   57563264               Life Is Beautiful   \n",
       "2                            Hero   53710019                            Hero   \n",
       "3       Instructions Not Included   44467206       Instructions Not Included   \n",
       "4                 Pan's Labyrinth   37634615                 Pan's Labyrinth   \n",
       "\n",
       "  Error                                             Awards  Metascore  \\\n",
       "0   NaN  Won 4 Oscars. Another 111 wins & 107 nominations.         93   \n",
       "1   NaN    Won 3 Oscars. Another 60 wins & 42 nominations.         59   \n",
       "2   NaN  Nominated for 1 Oscar. Another 31 wins & 29 no...         84   \n",
       "3   NaN                            5 wins & 2 nominations.         55   \n",
       "4   NaN   Won 3 Oscars. Another 103 wins & 72 nominations.         98   \n",
       "\n",
       "   award_numbers  nominations  \n",
       "0  [4, 111, 107]          107  \n",
       "1    [3, 60, 42]           42  \n",
       "2    [1, 31, 29]           29  \n",
       "3         [5, 2]            2  \n",
       "4   [3, 103, 72]           72  "
      ]
     },
     "execution_count": 48,
     "metadata": {},
     "output_type": "execute_result"
    }
   ],
   "source": [
    "df_gross_predictors.head()"
   ]
  },
  {
   "cell_type": "code",
   "execution_count": 49,
   "metadata": {
    "collapsed": false
   },
   "outputs": [
    {
     "data": {
      "text/html": [
       "<div>\n",
       "<table border=\"1\" class=\"dataframe\">\n",
       "  <thead>\n",
       "    <tr style=\"text-align: right;\">\n",
       "      <th></th>\n",
       "      <th>title</th>\n",
       "      <th>gross</th>\n",
       "      <th>Title</th>\n",
       "      <th>Error</th>\n",
       "      <th>Awards</th>\n",
       "      <th>Metascore</th>\n",
       "      <th>award_numbers</th>\n",
       "      <th>nominations</th>\n",
       "    </tr>\n",
       "  </thead>\n",
       "  <tbody>\n",
       "    <tr>\n",
       "      <th>1763</th>\n",
       "      <td>It's All So Quiet</td>\n",
       "      <td>724</td>\n",
       "      <td>It's All So Quiet</td>\n",
       "      <td>NaN</td>\n",
       "      <td>3 wins &amp; 7 nominations.</td>\n",
       "      <td>72</td>\n",
       "      <td>[3, 7]</td>\n",
       "      <td>7</td>\n",
       "    </tr>\n",
       "    <tr>\n",
       "      <th>1766</th>\n",
       "      <td>Steve + Sky</td>\n",
       "      <td>624</td>\n",
       "      <td>Steve + Sky</td>\n",
       "      <td>NaN</td>\n",
       "      <td>2 wins &amp; 4 nominations.</td>\n",
       "      <td>44</td>\n",
       "      <td>[2, 4]</td>\n",
       "      <td>4</td>\n",
       "    </tr>\n",
       "    <tr>\n",
       "      <th>1767</th>\n",
       "      <td>Anatomy 2</td>\n",
       "      <td>623</td>\n",
       "      <td>Anatomy 2</td>\n",
       "      <td>NaN</td>\n",
       "      <td>1 win &amp; 2 nominations.</td>\n",
       "      <td>46</td>\n",
       "      <td>[1, 2]</td>\n",
       "      <td>2</td>\n",
       "    </tr>\n",
       "    <tr>\n",
       "      <th>1768</th>\n",
       "      <td>The Sugar Curtain</td>\n",
       "      <td>582</td>\n",
       "      <td>The Sugar Curtain</td>\n",
       "      <td>NaN</td>\n",
       "      <td>4 wins &amp; 1 nomination.</td>\n",
       "      <td>66</td>\n",
       "      <td>[4, 1]</td>\n",
       "      <td>1</td>\n",
       "    </tr>\n",
       "    <tr>\n",
       "      <th>1770</th>\n",
       "      <td>Falling</td>\n",
       "      <td>509</td>\n",
       "      <td>Falling</td>\n",
       "      <td>NaN</td>\n",
       "      <td>3 wins &amp; 2 nominations.</td>\n",
       "      <td>56</td>\n",
       "      <td>[3, 2]</td>\n",
       "      <td>2</td>\n",
       "    </tr>\n",
       "  </tbody>\n",
       "</table>\n",
       "</div>"
      ],
      "text/plain": [
       "                   title  gross              Title Error  \\\n",
       "1763  It's All So Quiet     724  It's All So Quiet   NaN   \n",
       "1766         Steve + Sky    624        Steve + Sky   NaN   \n",
       "1767           Anatomy 2    623          Anatomy 2   NaN   \n",
       "1768   The Sugar Curtain    582  The Sugar Curtain   NaN   \n",
       "1770             Falling    509            Falling   NaN   \n",
       "\n",
       "                       Awards  Metascore award_numbers  nominations  \n",
       "1763  3 wins & 7 nominations.         72        [3, 7]            7  \n",
       "1766  2 wins & 4 nominations.         44        [2, 4]            4  \n",
       "1767   1 win & 2 nominations.         46        [1, 2]            2  \n",
       "1768   4 wins & 1 nomination.         66        [4, 1]            1  \n",
       "1770  3 wins & 2 nominations.         56        [3, 2]            2  "
      ]
     },
     "execution_count": 49,
     "metadata": {},
     "output_type": "execute_result"
    }
   ],
   "source": [
    "df_gross_predictors.tail()"
   ]
  },
  {
   "cell_type": "code",
   "execution_count": 54,
   "metadata": {
    "collapsed": false
   },
   "outputs": [
    {
     "data": {
      "text/plain": [
       "137"
      ]
     },
     "execution_count": 54,
     "metadata": {},
     "output_type": "execute_result"
    }
   ],
   "source": [
    "len(df_gross_predictors[df_gross_predictors.gross < 10000])\n",
    "\n",
    "# I don't know whether to trust these - there are at 10 that are less than $1,000 maybe cut theses?"
   ]
  },
  {
   "cell_type": "code",
   "execution_count": 56,
   "metadata": {
    "collapsed": false
   },
   "outputs": [],
   "source": [
    "reg_df = df_gross_predictors[['title', 'gross', 'Metascore', 'nominations']]"
   ]
  },
  {
   "cell_type": "code",
   "execution_count": 74,
   "metadata": {
    "collapsed": false
   },
   "outputs": [],
   "source": [
    "test_df = reg_df.sample(frac=0.2)\n",
    "train_df = reg_df[~reg_df.isin(test_df)]"
   ]
  },
  {
   "cell_type": "code",
   "execution_count": 75,
   "metadata": {
    "collapsed": false
   },
   "outputs": [
    {
     "data": {
      "text/plain": [
       "<seaborn.axisgrid.JointGrid at 0x10ff34f90>"
      ]
     },
     "execution_count": 75,
     "metadata": {},
     "output_type": "execute_result"
    },
    {
     "data": {
      "image/png": "[encoded data removed]",
      "text/plain": [
       "<matplotlib.figure.Figure at 0x110606250>"
      ]
     },
     "metadata": {},
     "output_type": "display_data"
    }
   ],
   "source": [
    "sns.set(style=\"white\", color_codes=True)\n",
    "sns.jointplot(x='nominations', y='gross', kind='scatter', data=train_df)"
   ]
  },
  {
   "cell_type": "code",
   "execution_count": 76,
   "metadata": {
    "collapsed": false
   },
   "outputs": [
    {
     "data": {
      "text/plain": [
       "<seaborn.axisgrid.JointGrid at 0x110388710>"
      ]
     },
     "execution_count": 76,
     "metadata": {},
     "output_type": "execute_result"
    },
    {
     "data": {
      "image/png": "[encoded data removed]",
      "text/plain": [
       "<matplotlib.figure.Figure at 0x110a44990>"
      ]
     },
     "metadata": {},
     "output_type": "display_data"
    }
   ],
   "source": [
    "sns.jointplot(x='nominations', y='gross', kind='reg', data=train_df)"
   ]
  },
  {
   "cell_type": "code",
   "execution_count": 77,
   "metadata": {
    "collapsed": false
   },
   "outputs": [
    {
     "data": {
      "text/plain": [
       "<seaborn.axisgrid.JointGrid at 0x111174f90>"
      ]
     },
     "execution_count": 77,
     "metadata": {},
     "output_type": "execute_result"
    },
    {
     "data": {
      "image/png": "[encoded data removed]",
      "text/plain": [
       "<matplotlib.figure.Figure at 0x1111806d0>"
      ]
     },
     "metadata": {},
     "output_type": "display_data"
    }
   ],
   "source": [
    "sns.jointplot(x='Metascore', y='gross', kind='scatter', data=train_df)"
   ]
  },
  {
   "cell_type": "code",
   "execution_count": 78,
   "metadata": {
    "collapsed": false
   },
   "outputs": [
    {
     "data": {
      "text/plain": [
       "<seaborn.axisgrid.JointGrid at 0x112219910>"
      ]
     },
     "execution_count": 78,
     "metadata": {},
     "output_type": "execute_result"
    },
    {
     "data": {
      "image/png": "[encoded data removed]",
      "text/plain": [
       "<matplotlib.figure.Figure at 0x112219950>"
      ]
     },
     "metadata": {},
     "output_type": "display_data"
    }
   ],
   "source": [
    "sns.jointplot(x='Metascore', y='gross', kind='reg', data=train_df)"
   ]
  },
  {
   "cell_type": "code",
   "execution_count": 71,
   "metadata": {
    "collapsed": false
   },
   "outputs": [
    {
     "ename": "NameError",
     "evalue": "name 'train_df' is not defined",
     "output_type": "error",
     "traceback": [
      "\u001b[0;31m---------------------------------------------------------------------------\u001b[0m",
      "\u001b[0;31mNameError\u001b[0m                                 Traceback (most recent call last)",
      "\u001b[0;32m<ipython-input-71-5f1f30d50777>\u001b[0m in \u001b[0;36m<module>\u001b[0;34m()\u001b[0m\n\u001b[0;32m----> 1\u001b[0;31m \u001b[0my\u001b[0m\u001b[0;34m,\u001b[0m \u001b[0mX\u001b[0m \u001b[0;34m=\u001b[0m \u001b[0mdmatrices\u001b[0m\u001b[0;34m(\u001b[0m\u001b[0;34m'gross ~ Metascore + nominations + language_size'\u001b[0m\u001b[0;34m,\u001b[0m \u001b[0mdata\u001b[0m\u001b[0;34m=\u001b[0m\u001b[0mtrain_df\u001b[0m\u001b[0;34m,\u001b[0m \u001b[0mreturn_type\u001b[0m\u001b[0;34m=\u001b[0m\u001b[0;34m'dataframe'\u001b[0m\u001b[0;34m)\u001b[0m\u001b[0;34m\u001b[0m\u001b[0m\n\u001b[0m",
      "\u001b[0;31mNameError\u001b[0m: name 'train_df' is not defined"
     ]
    }
   ],
   "source": []
  },
  {
   "cell_type": "code",
   "execution_count": 80,
   "metadata": {
    "collapsed": false
   },
   "outputs": [],
   "source": [
    "y, X = dmatrices('gross ~ Metascore + nominations', data=train_df, return_type='dataframe')"
   ]
  },
  {
   "cell_type": "code",
   "execution_count": 81,
   "metadata": {
    "collapsed": true
   },
   "outputs": [],
   "source": [
    "model = sm.OLS(y, X)\n",
    "results = model.fit()"
   ]
  },
  {
   "cell_type": "code",
   "execution_count": 82,
   "metadata": {
    "collapsed": false
   },
   "outputs": [
    {
     "data": {
      "text/html": [
       "<table class=\"simpletable\">\n",
       "<caption>OLS Regression Results</caption>\n",
       "<tr>\n",
       "  <th>Dep. Variable:</th>          <td>gross</td>      <th>  R-squared:         </th> <td>   0.220</td> \n",
       "</tr>\n",
       "<tr>\n",
       "  <th>Model:</th>                   <td>OLS</td>       <th>  Adj. R-squared:    </th> <td>   0.218</td> \n",
       "</tr>\n",
       "<tr>\n",
       "  <th>Method:</th>             <td>Least Squares</td>  <th>  F-statistic:       </th> <td>   111.0</td> \n",
       "</tr>\n",
       "<tr>\n",
       "  <th>Date:</th>             <td>Sun, 11 Oct 2015</td> <th>  Prob (F-statistic):</th> <td>3.51e-43</td> \n",
       "</tr>\n",
       "<tr>\n",
       "  <th>Time:</th>                 <td>19:22:31</td>     <th>  Log-Likelihood:    </th> <td> -13329.</td> \n",
       "</tr>\n",
       "<tr>\n",
       "  <th>No. Observations:</th>      <td>   790</td>      <th>  AIC:               </th> <td>2.666e+04</td>\n",
       "</tr>\n",
       "<tr>\n",
       "  <th>Df Residuals:</th>          <td>   787</td>      <th>  BIC:               </th> <td>2.668e+04</td>\n",
       "</tr>\n",
       "<tr>\n",
       "  <th>Df Model:</th>              <td>     2</td>      <th>                     </th>     <td> </td>    \n",
       "</tr>\n",
       "<tr>\n",
       "  <th>Covariance Type:</th>      <td>nonrobust</td>    <th>                     </th>     <td> </td>    \n",
       "</tr>\n",
       "</table>\n",
       "<table class=\"simpletable\">\n",
       "<tr>\n",
       "       <td></td>          <th>coef</th>     <th>std err</th>      <th>t</th>      <th>P>|t|</th> <th>[95.0% Conf. Int.]</th> \n",
       "</tr>\n",
       "<tr>\n",
       "  <th>Intercept</th>   <td> -8.94e+05</td> <td> 8.79e+05</td> <td>   -1.017</td> <td> 0.309</td> <td>-2.62e+06  8.32e+05</td>\n",
       "</tr>\n",
       "<tr>\n",
       "  <th>Metascore</th>   <td>-1529.1550</td> <td> 1.36e+04</td> <td>   -0.112</td> <td> 0.911</td> <td>-2.83e+04  2.52e+04</td>\n",
       "</tr>\n",
       "<tr>\n",
       "  <th>nominations</th> <td> 2.405e+05</td> <td> 1.69e+04</td> <td>   14.235</td> <td> 0.000</td> <td> 2.07e+05  2.74e+05</td>\n",
       "</tr>\n",
       "</table>\n",
       "<table class=\"simpletable\">\n",
       "<tr>\n",
       "  <th>Omnibus:</th>       <td>1450.122</td> <th>  Durbin-Watson:     </th>  <td>   0.552</td>  \n",
       "</tr>\n",
       "<tr>\n",
       "  <th>Prob(Omnibus):</th>  <td> 0.000</td>  <th>  Jarque-Bera (JB):  </th> <td>1670276.996</td>\n",
       "</tr>\n",
       "<tr>\n",
       "  <th>Skew:</th>           <td>12.363</td>  <th>  Prob(JB):          </th>  <td>    0.00</td>  \n",
       "</tr>\n",
       "<tr>\n",
       "  <th>Kurtosis:</th>       <td>226.900</td> <th>  Cond. No.          </th>  <td>    325.</td>  \n",
       "</tr>\n",
       "</table>"
      ],
      "text/plain": [
       "<class 'statsmodels.iolib.summary.Summary'>\n",
       "\"\"\"\n",
       "                            OLS Regression Results                            \n",
       "==============================================================================\n",
       "Dep. Variable:                  gross   R-squared:                       0.220\n",
       "Model:                            OLS   Adj. R-squared:                  0.218\n",
       "Method:                 Least Squares   F-statistic:                     111.0\n",
       "Date:                Sun, 11 Oct 2015   Prob (F-statistic):           3.51e-43\n",
       "Time:                        19:22:31   Log-Likelihood:                -13329.\n",
       "No. Observations:                 790   AIC:                         2.666e+04\n",
       "Df Residuals:                     787   BIC:                         2.668e+04\n",
       "Df Model:                           2                                         \n",
       "Covariance Type:            nonrobust                                         \n",
       "===============================================================================\n",
       "                  coef    std err          t      P>|t|      [95.0% Conf. Int.]\n",
       "-------------------------------------------------------------------------------\n",
       "Intercept    -8.94e+05   8.79e+05     -1.017      0.309     -2.62e+06  8.32e+05\n",
       "Metascore   -1529.1550   1.36e+04     -0.112      0.911     -2.83e+04  2.52e+04\n",
       "nominations  2.405e+05   1.69e+04     14.235      0.000      2.07e+05  2.74e+05\n",
       "==============================================================================\n",
       "Omnibus:                     1450.122   Durbin-Watson:                   0.552\n",
       "Prob(Omnibus):                  0.000   Jarque-Bera (JB):          1670276.996\n",
       "Skew:                          12.363   Prob(JB):                         0.00\n",
       "Kurtosis:                     226.900   Cond. No.                         325.\n",
       "==============================================================================\n",
       "\n",
       "Warnings:\n",
       "[1] Standard Errors assume that the covariance matrix of the errors is correctly specified.\n",
       "\"\"\""
      ]
     },
     "execution_count": 82,
     "metadata": {},
     "output_type": "execute_result"
    }
   ],
   "source": [
    "results.summary()"
   ]
  },
  {
   "cell_type": "code",
   "execution_count": 83,
   "metadata": {
    "collapsed": false
   },
   "outputs": [
    {
     "name": "stdout",
     "output_type": "stream",
     "text": [
      "Intercept     -893991.149352\n",
      "Metascore       -1529.155003\n",
      "nominations    240482.137772\n",
      "dtype: float64\n"
     ]
    }
   ],
   "source": [
    "print results.params"
   ]
  },
  {
   "cell_type": "code",
   "execution_count": 84,
   "metadata": {
    "collapsed": true
   },
   "outputs": [],
   "source": [
    "results2 = smf.ols(formula=\"gross ~ nominations\", data=train_df).fit()"
   ]
  },
  {
   "cell_type": "code",
   "execution_count": 85,
   "metadata": {
    "collapsed": false
   },
   "outputs": [
    {
     "data": {
      "text/html": [
       "<table class=\"simpletable\">\n",
       "<caption>OLS Regression Results</caption>\n",
       "<tr>\n",
       "  <th>Dep. Variable:</th>          <td>gross</td>      <th>  R-squared:         </th> <td>   0.220</td> \n",
       "</tr>\n",
       "<tr>\n",
       "  <th>Model:</th>                   <td>OLS</td>       <th>  Adj. R-squared:    </th> <td>   0.219</td> \n",
       "</tr>\n",
       "<tr>\n",
       "  <th>Method:</th>             <td>Least Squares</td>  <th>  F-statistic:       </th> <td>   222.2</td> \n",
       "</tr>\n",
       "<tr>\n",
       "  <th>Date:</th>             <td>Sun, 11 Oct 2015</td> <th>  Prob (F-statistic):</th> <td>1.88e-44</td> \n",
       "</tr>\n",
       "<tr>\n",
       "  <th>Time:</th>                 <td>19:23:44</td>     <th>  Log-Likelihood:    </th> <td> -13329.</td> \n",
       "</tr>\n",
       "<tr>\n",
       "  <th>No. Observations:</th>      <td>   790</td>      <th>  AIC:               </th> <td>2.666e+04</td>\n",
       "</tr>\n",
       "<tr>\n",
       "  <th>Df Residuals:</th>          <td>   788</td>      <th>  BIC:               </th> <td>2.667e+04</td>\n",
       "</tr>\n",
       "<tr>\n",
       "  <th>Df Model:</th>              <td>     1</td>      <th>                     </th>     <td> </td>    \n",
       "</tr>\n",
       "<tr>\n",
       "  <th>Covariance Type:</th>      <td>nonrobust</td>    <th>                     </th>     <td> </td>    \n",
       "</tr>\n",
       "</table>\n",
       "<table class=\"simpletable\">\n",
       "<tr>\n",
       "       <td></td>          <th>coef</th>     <th>std err</th>      <th>t</th>      <th>P>|t|</th> <th>[95.0% Conf. Int.]</th> \n",
       "</tr>\n",
       "<tr>\n",
       "  <th>Intercept</th>   <td> -9.89e+05</td> <td> 2.35e+05</td> <td>   -4.208</td> <td> 0.000</td> <td>-1.45e+06 -5.28e+05</td>\n",
       "</tr>\n",
       "<tr>\n",
       "  <th>nominations</th> <td> 2.399e+05</td> <td> 1.61e+04</td> <td>   14.906</td> <td> 0.000</td> <td> 2.08e+05  2.72e+05</td>\n",
       "</tr>\n",
       "</table>\n",
       "<table class=\"simpletable\">\n",
       "<tr>\n",
       "  <th>Omnibus:</th>       <td>1450.394</td> <th>  Durbin-Watson:     </th>  <td>   0.551</td>  \n",
       "</tr>\n",
       "<tr>\n",
       "  <th>Prob(Omnibus):</th>  <td> 0.000</td>  <th>  Jarque-Bera (JB):  </th> <td>1671951.295</td>\n",
       "</tr>\n",
       "<tr>\n",
       "  <th>Skew:</th>           <td>12.368</td>  <th>  Prob(JB):          </th>  <td>    0.00</td>  \n",
       "</tr>\n",
       "<tr>\n",
       "  <th>Kurtosis:</th>       <td>227.012</td> <th>  Cond. No.          </th>  <td>    18.8</td>  \n",
       "</tr>\n",
       "</table>"
      ],
      "text/plain": [
       "<class 'statsmodels.iolib.summary.Summary'>\n",
       "\"\"\"\n",
       "                            OLS Regression Results                            \n",
       "==============================================================================\n",
       "Dep. Variable:                  gross   R-squared:                       0.220\n",
       "Model:                            OLS   Adj. R-squared:                  0.219\n",
       "Method:                 Least Squares   F-statistic:                     222.2\n",
       "Date:                Sun, 11 Oct 2015   Prob (F-statistic):           1.88e-44\n",
       "Time:                        19:23:44   Log-Likelihood:                -13329.\n",
       "No. Observations:                 790   AIC:                         2.666e+04\n",
       "Df Residuals:                     788   BIC:                         2.667e+04\n",
       "Df Model:                           1                                         \n",
       "Covariance Type:            nonrobust                                         \n",
       "===============================================================================\n",
       "                  coef    std err          t      P>|t|      [95.0% Conf. Int.]\n",
       "-------------------------------------------------------------------------------\n",
       "Intercept    -9.89e+05   2.35e+05     -4.208      0.000     -1.45e+06 -5.28e+05\n",
       "nominations  2.399e+05   1.61e+04     14.906      0.000      2.08e+05  2.72e+05\n",
       "==============================================================================\n",
       "Omnibus:                     1450.394   Durbin-Watson:                   0.551\n",
       "Prob(Omnibus):                  0.000   Jarque-Bera (JB):          1671951.295\n",
       "Skew:                          12.368   Prob(JB):                         0.00\n",
       "Kurtosis:                     227.012   Cond. No.                         18.8\n",
       "==============================================================================\n",
       "\n",
       "Warnings:\n",
       "[1] Standard Errors assume that the covariance matrix of the errors is correctly specified.\n",
       "\"\"\""
      ]
     },
     "execution_count": 85,
     "metadata": {},
     "output_type": "execute_result"
    }
   ],
   "source": [
    "results2.summary()"
   ]
  },
  {
   "cell_type": "code",
   "execution_count": 86,
   "metadata": {
    "collapsed": false
   },
   "outputs": [
    {
     "data": {
      "text/plain": [
       "Intercept     -989023.611997\n",
       "nominations    239909.718604\n",
       "dtype: float64"
      ]
     },
     "execution_count": 86,
     "metadata": {},
     "output_type": "execute_result"
    }
   ],
   "source": [
    "results2.params"
   ]
  },
  {
   "cell_type": "code",
   "execution_count": 87,
   "metadata": {
    "collapsed": true
   },
   "outputs": [],
   "source": [
    "test_results = smf.ols(formula=\"gross ~ nominations\", data=test_df).fit()"
   ]
  },
  {
   "cell_type": "code",
   "execution_count": 88,
   "metadata": {
    "collapsed": false
   },
   "outputs": [
    {
     "data": {
      "text/html": [
       "<table class=\"simpletable\">\n",
       "<caption>OLS Regression Results</caption>\n",
       "<tr>\n",
       "  <th>Dep. Variable:</th>          <td>gross</td>      <th>  R-squared:         </th> <td>   0.077</td>\n",
       "</tr>\n",
       "<tr>\n",
       "  <th>Model:</th>                   <td>OLS</td>       <th>  Adj. R-squared:    </th> <td>   0.073</td>\n",
       "</tr>\n",
       "<tr>\n",
       "  <th>Method:</th>             <td>Least Squares</td>  <th>  F-statistic:       </th> <td>   16.46</td>\n",
       "</tr>\n",
       "<tr>\n",
       "  <th>Date:</th>             <td>Sun, 11 Oct 2015</td> <th>  Prob (F-statistic):</th> <td>7.18e-05</td>\n",
       "</tr>\n",
       "<tr>\n",
       "  <th>Time:</th>                 <td>19:24:30</td>     <th>  Log-Likelihood:    </th> <td> -3265.7</td>\n",
       "</tr>\n",
       "<tr>\n",
       "  <th>No. Observations:</th>      <td>   198</td>      <th>  AIC:               </th> <td>   6535.</td>\n",
       "</tr>\n",
       "<tr>\n",
       "  <th>Df Residuals:</th>          <td>   196</td>      <th>  BIC:               </th> <td>   6542.</td>\n",
       "</tr>\n",
       "<tr>\n",
       "  <th>Df Model:</th>              <td>     1</td>      <th>                     </th>     <td> </td>   \n",
       "</tr>\n",
       "<tr>\n",
       "  <th>Covariance Type:</th>      <td>nonrobust</td>    <th>                     </th>     <td> </td>   \n",
       "</tr>\n",
       "</table>\n",
       "<table class=\"simpletable\">\n",
       "<tr>\n",
       "       <td></td>          <th>coef</th>     <th>std err</th>      <th>t</th>      <th>P>|t|</th> <th>[95.0% Conf. Int.]</th> \n",
       "</tr>\n",
       "<tr>\n",
       "  <th>Intercept</th>   <td> 3.352e+05</td> <td> 3.31e+05</td> <td>    1.011</td> <td> 0.313</td> <td>-3.18e+05  9.89e+05</td>\n",
       "</tr>\n",
       "<tr>\n",
       "  <th>nominations</th> <td> 8.689e+04</td> <td> 2.14e+04</td> <td>    4.057</td> <td> 0.000</td> <td> 4.46e+04  1.29e+05</td>\n",
       "</tr>\n",
       "</table>\n",
       "<table class=\"simpletable\">\n",
       "<tr>\n",
       "  <th>Omnibus:</th>       <td>372.144</td> <th>  Durbin-Watson:     </th>  <td>   1.807</td> \n",
       "</tr>\n",
       "<tr>\n",
       "  <th>Prob(Omnibus):</th> <td> 0.000</td>  <th>  Jarque-Bera (JB):  </th> <td>122373.289</td>\n",
       "</tr>\n",
       "<tr>\n",
       "  <th>Skew:</th>          <td>10.045</td>  <th>  Prob(JB):          </th>  <td>    0.00</td> \n",
       "</tr>\n",
       "<tr>\n",
       "  <th>Kurtosis:</th>      <td>123.123</td> <th>  Cond. No.          </th>  <td>    20.4</td> \n",
       "</tr>\n",
       "</table>"
      ],
      "text/plain": [
       "<class 'statsmodels.iolib.summary.Summary'>\n",
       "\"\"\"\n",
       "                            OLS Regression Results                            \n",
       "==============================================================================\n",
       "Dep. Variable:                  gross   R-squared:                       0.077\n",
       "Model:                            OLS   Adj. R-squared:                  0.073\n",
       "Method:                 Least Squares   F-statistic:                     16.46\n",
       "Date:                Sun, 11 Oct 2015   Prob (F-statistic):           7.18e-05\n",
       "Time:                        19:24:30   Log-Likelihood:                -3265.7\n",
       "No. Observations:                 198   AIC:                             6535.\n",
       "Df Residuals:                     196   BIC:                             6542.\n",
       "Df Model:                           1                                         \n",
       "Covariance Type:            nonrobust                                         \n",
       "===============================================================================\n",
       "                  coef    std err          t      P>|t|      [95.0% Conf. Int.]\n",
       "-------------------------------------------------------------------------------\n",
       "Intercept    3.352e+05   3.31e+05      1.011      0.313     -3.18e+05  9.89e+05\n",
       "nominations  8.689e+04   2.14e+04      4.057      0.000      4.46e+04  1.29e+05\n",
       "==============================================================================\n",
       "Omnibus:                      372.144   Durbin-Watson:                   1.807\n",
       "Prob(Omnibus):                  0.000   Jarque-Bera (JB):           122373.289\n",
       "Skew:                          10.045   Prob(JB):                         0.00\n",
       "Kurtosis:                     123.123   Cond. No.                         20.4\n",
       "==============================================================================\n",
       "\n",
       "Warnings:\n",
       "[1] Standard Errors assume that the covariance matrix of the errors is correctly specified.\n",
       "\"\"\""
      ]
     },
     "execution_count": 88,
     "metadata": {},
     "output_type": "execute_result"
    }
   ],
   "source": [
    "test_results.summary()"
   ]
  },
  {
   "cell_type": "code",
   "execution_count": 89,
   "metadata": {
    "collapsed": false
   },
   "outputs": [
    {
     "data": {
      "text/plain": [
       "<seaborn.axisgrid.JointGrid at 0x1128e81d0>"
      ]
     },
     "execution_count": 89,
     "metadata": {},
     "output_type": "execute_result"
    },
    {
     "data": {
      "image/png": "[encoded data removed]",
      "text/plain": [
       "<matplotlib.figure.Figure at 0x1128e8210>"
      ]
     },
     "metadata": {},
     "output_type": "display_data"
    }
   ],
   "source": [
    "sns.jointplot(x='nominations', y='gross', kind='reg', data=test_df)"
   ]
  },
  {
   "cell_type": "code",
   "execution_count": null,
   "metadata": {
    "collapsed": true
   },
   "outputs": [],
   "source": []
  }
 ],
 "metadata": {
  "kernelspec": {
   "display_name": "Python 2",
   "language": "python",
   "name": "python2"
  },
  "language_info": {
   "codemirror_mode": {
    "name": "ipython",
    "version": 2
   },
   "file_extension": ".py",
   "mimetype": "text/x-python",
   "name": "python",
   "nbconvert_exporter": "python",
   "pygments_lexer": "ipython2",
   "version": "2.7.10"
  }
 },
 "nbformat": 4,
 "nbformat_minor": 0
}
